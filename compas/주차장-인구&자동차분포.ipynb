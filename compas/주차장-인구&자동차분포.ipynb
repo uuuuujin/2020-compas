{
 "cells": [
  {
   "cell_type": "markdown",
   "metadata": {
    "id": "-npGuJup2k8Y"
   },
   "source": [
    "# 인구분포"
   ]
  },
  {
   "cell_type": "code",
   "execution_count": null,
   "metadata": {
    "colab": {
     "base_uri": "https://localhost:8080/",
     "height": 34
    },
    "executionInfo": {
     "elapsed": 2365,
     "status": "ok",
     "timestamp": 1602639246843,
     "user": {
      "displayName": "정유진",
      "photoUrl": "",
      "userId": "16265369213700567816"
     },
     "user_tz": -540
    },
    "id": "9F2F-ZF2jRwn",
    "outputId": "ed9ef104-8744-4b8f-9ebd-8f7b3ee55550"
   },
   "outputs": [
    {
     "name": "stdout",
     "output_type": "stream",
     "text": [
      "Mounted at /gdrive\n"
     ]
    }
   ],
   "source": [
    "from google.colab import drive\n",
    "drive.mount('/gdrive',force_remount=True)"
   ]
  },
  {
   "cell_type": "code",
   "execution_count": null,
   "metadata": {
    "colab": {
     "base_uri": "https://localhost:8080/",
     "height": 439
    },
    "executionInfo": {
     "elapsed": 14965,
     "status": "ok",
     "timestamp": 1602639286904,
     "user": {
      "displayName": "정유진",
      "photoUrl": "",
      "userId": "16265369213700567816"
     },
     "user_tz": -540
    },
    "id": "g2jnnUXnk68d",
    "outputId": "2b0caae4-db73-438e-ea70-51838e81f813"
   },
   "outputs": [
    {
     "name": "stdout",
     "output_type": "stream",
     "text": [
      "Requirement already up-to-date: geopandas in /usr/local/lib/python3.6/dist-packages (0.8.1)\n",
      "Requirement already satisfied, skipping upgrade: pyproj>=2.2.0 in /usr/local/lib/python3.6/dist-packages (from geopandas) (2.6.1.post1)\n",
      "Requirement already satisfied, skipping upgrade: shapely in /usr/local/lib/python3.6/dist-packages (from geopandas) (1.7.1)\n",
      "Requirement already satisfied, skipping upgrade: pandas>=0.23.0 in /usr/local/lib/python3.6/dist-packages (from geopandas) (1.1.2)\n",
      "Requirement already satisfied, skipping upgrade: fiona in /usr/local/lib/python3.6/dist-packages (from geopandas) (1.8.17)\n",
      "Requirement already satisfied, skipping upgrade: python-dateutil>=2.7.3 in /usr/local/lib/python3.6/dist-packages (from pandas>=0.23.0->geopandas) (2.8.1)\n",
      "Requirement already satisfied, skipping upgrade: numpy>=1.15.4 in /usr/local/lib/python3.6/dist-packages (from pandas>=0.23.0->geopandas) (1.18.5)\n",
      "Requirement already satisfied, skipping upgrade: pytz>=2017.2 in /usr/local/lib/python3.6/dist-packages (from pandas>=0.23.0->geopandas) (2018.9)\n",
      "Requirement already satisfied, skipping upgrade: six>=1.7 in /usr/local/lib/python3.6/dist-packages (from fiona->geopandas) (1.15.0)\n",
      "Requirement already satisfied, skipping upgrade: click<8,>=4.0 in /usr/local/lib/python3.6/dist-packages (from fiona->geopandas) (7.1.2)\n",
      "Requirement already satisfied, skipping upgrade: attrs>=17 in /usr/local/lib/python3.6/dist-packages (from fiona->geopandas) (20.2.0)\n",
      "Requirement already satisfied, skipping upgrade: click-plugins>=1.0 in /usr/local/lib/python3.6/dist-packages (from fiona->geopandas) (1.1.1)\n",
      "Requirement already satisfied, skipping upgrade: cligj>=0.5 in /usr/local/lib/python3.6/dist-packages (from fiona->geopandas) (0.5.0)\n",
      "Requirement already satisfied, skipping upgrade: munch in /usr/local/lib/python3.6/dist-packages (from fiona->geopandas) (2.5.0)\n",
      "Requirement already up-to-date: pyshp in /usr/local/lib/python3.6/dist-packages (2.1.2)\n",
      "Requirement already up-to-date: shapely in /usr/local/lib/python3.6/dist-packages (1.7.1)\n",
      "Requirement already up-to-date: descartes in /usr/local/lib/python3.6/dist-packages (1.1.0)\n",
      "Requirement already satisfied, skipping upgrade: matplotlib in /usr/local/lib/python3.6/dist-packages (from descartes) (3.2.2)\n",
      "Requirement already satisfied, skipping upgrade: kiwisolver>=1.0.1 in /usr/local/lib/python3.6/dist-packages (from matplotlib->descartes) (1.2.0)\n",
      "Requirement already satisfied, skipping upgrade: cycler>=0.10 in /usr/local/lib/python3.6/dist-packages (from matplotlib->descartes) (0.10.0)\n",
      "Requirement already satisfied, skipping upgrade: numpy>=1.11 in /usr/local/lib/python3.6/dist-packages (from matplotlib->descartes) (1.18.5)\n",
      "Requirement already satisfied, skipping upgrade: python-dateutil>=2.1 in /usr/local/lib/python3.6/dist-packages (from matplotlib->descartes) (2.8.1)\n",
      "Requirement already satisfied, skipping upgrade: pyparsing!=2.0.4,!=2.1.2,!=2.1.6,>=2.0.1 in /usr/local/lib/python3.6/dist-packages (from matplotlib->descartes) (2.4.7)\n",
      "Requirement already satisfied, skipping upgrade: six in /usr/local/lib/python3.6/dist-packages (from cycler>=0.10->matplotlib->descartes) (1.15.0)\n"
     ]
    }
   ],
   "source": [
    "import requests\n",
    "import zipfile\n",
    "\n",
    "\n",
    "def save_file(url, file_name):\n",
    "  r = requests.get(url)\n",
    "  with open(file_name, 'wb') as f:\n",
    "    f.write(r.content)\n",
    "\n",
    "    \n",
    "save_file('https://courses.cs.washington.edu/courses/cse163/19sp/' +\n",
    "          'files/lectures/05-13/data.zip', 'data.zip')\n",
    "save_file('https://courses.cs.washington.edu/courses/cse163/19sp/' +\n",
    "          'files/lectures/05-13/gz_2010_us_040_00_5m.json', \n",
    "          'gz_2010_us_040_00_5m.json')\n",
    "save_file('https://courses.cs.washington.edu/courses/cse163/19sp/' +\n",
    "          'files/lectures/05-13/stormhistory.csv', 'stormhistory.csv')\n",
    "\n",
    "with zipfile.ZipFile(\"data.zip\",\"r\") as zip_ref:\n",
    "    zip_ref.extractall()\n",
    "    \n",
    "!pip install --upgrade geopandas\n",
    "!pip install --upgrade pyshp\n",
    "!pip install --upgrade shapely\n",
    "!pip install --upgrade descartes"
   ]
  },
  {
   "cell_type": "code",
   "execution_count": null,
   "metadata": {
    "id": "-pfirxYpkdFg"
   },
   "outputs": [],
   "source": [
    "import pathlib\n",
    "import numpy as np\n",
    "import pandas as pd\n",
    "import geopandas as gpd\n",
    "import matplotlib.pyplot as plt\n",
    "from shapely.geometry import Polygon, LineString, Point\n",
    "from pandas import Series, DataFrame\n",
    "from tqdm.notebook import tqdm\n",
    "import warnings\n",
    "warnings.filterwarnings(action='ignore')\n"
   ]
  },
  {
   "cell_type": "code",
   "execution_count": null,
   "metadata": {
    "colab": {
     "base_uri": "https://localhost:8080/",
     "height": 402
    },
    "executionInfo": {
     "elapsed": 5271,
     "status": "ok",
     "timestamp": 1602639303672,
     "user": {
      "displayName": "정유진",
      "photoUrl": "",
      "userId": "16265369213700567816"
     },
     "user_tz": -540
    },
    "id": "eTgpq3lglCtY",
    "outputId": "c413f747-62dd-4799-d8d0-69230116faf1"
   },
   "outputs": [
    {
     "data": {
      "text/html": [
       "<div>\n",
       "<style scoped>\n",
       "    .dataframe tbody tr th:only-of-type {\n",
       "        vertical-align: middle;\n",
       "    }\n",
       "\n",
       "    .dataframe tbody tr th {\n",
       "        vertical-align: top;\n",
       "    }\n",
       "\n",
       "    .dataframe thead th {\n",
       "        text-align: right;\n",
       "    }\n",
       "</style>\n",
       "<table border=\"1\" class=\"dataframe\">\n",
       "  <thead>\n",
       "    <tr style=\"text-align: right;\">\n",
       "      <th></th>\n",
       "      <th>gid</th>\n",
       "      <th>val</th>\n",
       "      <th>geometry</th>\n",
       "    </tr>\n",
       "  </thead>\n",
       "  <tbody>\n",
       "    <tr>\n",
       "      <th>0</th>\n",
       "      <td>라라023745</td>\n",
       "      <td>0.0</td>\n",
       "      <td>MULTIPOLYGON (((127.52523 35.06557, 127.52523 ...</td>\n",
       "    </tr>\n",
       "    <tr>\n",
       "      <th>1</th>\n",
       "      <td>라라023746</td>\n",
       "      <td>0.0</td>\n",
       "      <td>MULTIPOLYGON (((127.52523 35.06647, 127.52523 ...</td>\n",
       "    </tr>\n",
       "    <tr>\n",
       "      <th>2</th>\n",
       "      <td>라라023747</td>\n",
       "      <td>0.0</td>\n",
       "      <td>MULTIPOLYGON (((127.52523 35.06737, 127.52523 ...</td>\n",
       "    </tr>\n",
       "    <tr>\n",
       "      <th>3</th>\n",
       "      <td>라라023748</td>\n",
       "      <td>0.0</td>\n",
       "      <td>MULTIPOLYGON (((127.52523 35.06828, 127.52523 ...</td>\n",
       "    </tr>\n",
       "    <tr>\n",
       "      <th>4</th>\n",
       "      <td>라라023749</td>\n",
       "      <td>0.0</td>\n",
       "      <td>MULTIPOLYGON (((127.52523 35.06918, 127.52523 ...</td>\n",
       "    </tr>\n",
       "    <tr>\n",
       "      <th>...</th>\n",
       "      <td>...</td>\n",
       "      <td>...</td>\n",
       "      <td>...</td>\n",
       "    </tr>\n",
       "    <tr>\n",
       "      <th>47027</th>\n",
       "      <td>라라261688</td>\n",
       "      <td>0.0</td>\n",
       "      <td>MULTIPOLYGON (((127.78607 35.01384, 127.78607 ...</td>\n",
       "    </tr>\n",
       "    <tr>\n",
       "      <th>47028</th>\n",
       "      <td>라라261689</td>\n",
       "      <td>0.0</td>\n",
       "      <td>MULTIPOLYGON (((127.78607 35.01474, 127.78608 ...</td>\n",
       "    </tr>\n",
       "    <tr>\n",
       "      <th>47029</th>\n",
       "      <td>라라261690</td>\n",
       "      <td>0.0</td>\n",
       "      <td>MULTIPOLYGON (((127.78608 35.01564, 127.78608 ...</td>\n",
       "    </tr>\n",
       "    <tr>\n",
       "      <th>47030</th>\n",
       "      <td>라라261691</td>\n",
       "      <td>0.0</td>\n",
       "      <td>MULTIPOLYGON (((127.78608 35.01654, 127.78608 ...</td>\n",
       "    </tr>\n",
       "    <tr>\n",
       "      <th>47031</th>\n",
       "      <td>라라261692</td>\n",
       "      <td>0.0</td>\n",
       "      <td>MULTIPOLYGON (((127.78608 35.01744, 127.78609 ...</td>\n",
       "    </tr>\n",
       "  </tbody>\n",
       "</table>\n",
       "<p>47032 rows × 3 columns</p>\n",
       "</div>"
      ],
      "text/plain": [
       "            gid  val                                           geometry\n",
       "0      라라023745  0.0  MULTIPOLYGON (((127.52523 35.06557, 127.52523 ...\n",
       "1      라라023746  0.0  MULTIPOLYGON (((127.52523 35.06647, 127.52523 ...\n",
       "2      라라023747  0.0  MULTIPOLYGON (((127.52523 35.06737, 127.52523 ...\n",
       "3      라라023748  0.0  MULTIPOLYGON (((127.52523 35.06828, 127.52523 ...\n",
       "4      라라023749  0.0  MULTIPOLYGON (((127.52523 35.06918, 127.52523 ...\n",
       "...         ...  ...                                                ...\n",
       "47027  라라261688  0.0  MULTIPOLYGON (((127.78607 35.01384, 127.78607 ...\n",
       "47028  라라261689  0.0  MULTIPOLYGON (((127.78607 35.01474, 127.78608 ...\n",
       "47029  라라261690  0.0  MULTIPOLYGON (((127.78608 35.01564, 127.78608 ...\n",
       "47030  라라261691  0.0  MULTIPOLYGON (((127.78608 35.01654, 127.78608 ...\n",
       "47031  라라261692  0.0  MULTIPOLYGON (((127.78608 35.01744, 127.78609 ...\n",
       "\n",
       "[47032 rows x 3 columns]"
      ]
     },
     "execution_count": 12,
     "metadata": {
      "tags": []
     },
     "output_type": "execute_result"
    }
   ],
   "source": [
    "인구분포도 = gpd.read_file('/gdrive/My Drive/광양시 데이터/08.광양시_격자별인구현황(100X100).geojson')\n",
    "인구분포도.loc[인구분포도['val'].apply(pd.isna), 'val'] = 0\n",
    "인구분포도"
   ]
  },
  {
   "cell_type": "code",
   "execution_count": null,
   "metadata": {
    "colab": {
     "base_uri": "https://localhost:8080/",
     "height": 284
    },
    "executionInfo": {
     "elapsed": 1629,
     "status": "ok",
     "timestamp": 1602640080464,
     "user": {
      "displayName": "정유진",
      "photoUrl": "",
      "userId": "16265369213700567816"
     },
     "user_tz": -540
    },
    "id": "RRLoYigxyqGK",
    "outputId": "51d2f17f-a35c-4abc-8b14-4a7aa430778a"
   },
   "outputs": [
    {
     "data": {
      "text/html": [
       "<div>\n",
       "<style scoped>\n",
       "    .dataframe tbody tr th:only-of-type {\n",
       "        vertical-align: middle;\n",
       "    }\n",
       "\n",
       "    .dataframe tbody tr th {\n",
       "        vertical-align: top;\n",
       "    }\n",
       "\n",
       "    .dataframe thead th {\n",
       "        text-align: right;\n",
       "    }\n",
       "</style>\n",
       "<table border=\"1\" class=\"dataframe\">\n",
       "  <thead>\n",
       "    <tr style=\"text-align: right;\">\n",
       "      <th></th>\n",
       "      <th>val</th>\n",
       "    </tr>\n",
       "  </thead>\n",
       "  <tbody>\n",
       "    <tr>\n",
       "      <th>count</th>\n",
       "      <td>47032.000000</td>\n",
       "    </tr>\n",
       "    <tr>\n",
       "      <th>mean</th>\n",
       "      <td>3.097529</td>\n",
       "    </tr>\n",
       "    <tr>\n",
       "      <th>std</th>\n",
       "      <td>36.054919</td>\n",
       "    </tr>\n",
       "    <tr>\n",
       "      <th>min</th>\n",
       "      <td>0.000000</td>\n",
       "    </tr>\n",
       "    <tr>\n",
       "      <th>25%</th>\n",
       "      <td>0.000000</td>\n",
       "    </tr>\n",
       "    <tr>\n",
       "      <th>50%</th>\n",
       "      <td>0.000000</td>\n",
       "    </tr>\n",
       "    <tr>\n",
       "      <th>75%</th>\n",
       "      <td>0.000000</td>\n",
       "    </tr>\n",
       "    <tr>\n",
       "      <th>max</th>\n",
       "      <td>2613.000000</td>\n",
       "    </tr>\n",
       "  </tbody>\n",
       "</table>\n",
       "</div>"
      ],
      "text/plain": [
       "                val\n",
       "count  47032.000000\n",
       "mean       3.097529\n",
       "std       36.054919\n",
       "min        0.000000\n",
       "25%        0.000000\n",
       "50%        0.000000\n",
       "75%        0.000000\n",
       "max     2613.000000"
      ]
     },
     "execution_count": 32,
     "metadata": {
      "tags": []
     },
     "output_type": "execute_result"
    }
   ],
   "source": [
    "인구분포도.describe()"
   ]
  },
  {
   "cell_type": "code",
   "execution_count": null,
   "metadata": {
    "colab": {
     "base_uri": "https://localhost:8080/",
     "height": 402
    },
    "executionInfo": {
     "elapsed": 1630,
     "status": "ok",
     "timestamp": 1602640458533,
     "user": {
      "displayName": "정유진",
      "photoUrl": "",
      "userId": "16265369213700567816"
     },
     "user_tz": -540
    },
    "id": "FD8E8ewP0ETB",
    "outputId": "ee7e3c54-3836-4a77-aabc-04381ffee4e4"
   },
   "outputs": [
    {
     "data": {
      "text/html": [
       "<div>\n",
       "<style scoped>\n",
       "    .dataframe tbody tr th:only-of-type {\n",
       "        vertical-align: middle;\n",
       "    }\n",
       "\n",
       "    .dataframe tbody tr th {\n",
       "        vertical-align: top;\n",
       "    }\n",
       "\n",
       "    .dataframe thead th {\n",
       "        text-align: right;\n",
       "    }\n",
       "</style>\n",
       "<table border=\"1\" class=\"dataframe\">\n",
       "  <thead>\n",
       "    <tr style=\"text-align: right;\">\n",
       "      <th></th>\n",
       "      <th>gid</th>\n",
       "      <th>val</th>\n",
       "      <th>geometry</th>\n",
       "    </tr>\n",
       "  </thead>\n",
       "  <tbody>\n",
       "    <tr>\n",
       "      <th>0</th>\n",
       "      <td>라라023745</td>\n",
       "      <td>0.0</td>\n",
       "      <td>MULTIPOLYGON (((127.52523 35.06557, 127.52523 ...</td>\n",
       "    </tr>\n",
       "    <tr>\n",
       "      <th>1</th>\n",
       "      <td>라라023746</td>\n",
       "      <td>0.0</td>\n",
       "      <td>MULTIPOLYGON (((127.52523 35.06647, 127.52523 ...</td>\n",
       "    </tr>\n",
       "    <tr>\n",
       "      <th>2</th>\n",
       "      <td>라라023747</td>\n",
       "      <td>0.0</td>\n",
       "      <td>MULTIPOLYGON (((127.52523 35.06737, 127.52523 ...</td>\n",
       "    </tr>\n",
       "    <tr>\n",
       "      <th>3</th>\n",
       "      <td>라라023748</td>\n",
       "      <td>0.0</td>\n",
       "      <td>MULTIPOLYGON (((127.52523 35.06828, 127.52523 ...</td>\n",
       "    </tr>\n",
       "    <tr>\n",
       "      <th>4</th>\n",
       "      <td>라라023749</td>\n",
       "      <td>0.0</td>\n",
       "      <td>MULTIPOLYGON (((127.52523 35.06918, 127.52523 ...</td>\n",
       "    </tr>\n",
       "    <tr>\n",
       "      <th>...</th>\n",
       "      <td>...</td>\n",
       "      <td>...</td>\n",
       "      <td>...</td>\n",
       "    </tr>\n",
       "    <tr>\n",
       "      <th>47027</th>\n",
       "      <td>라라261688</td>\n",
       "      <td>0.0</td>\n",
       "      <td>MULTIPOLYGON (((127.78607 35.01384, 127.78607 ...</td>\n",
       "    </tr>\n",
       "    <tr>\n",
       "      <th>47028</th>\n",
       "      <td>라라261689</td>\n",
       "      <td>0.0</td>\n",
       "      <td>MULTIPOLYGON (((127.78607 35.01474, 127.78608 ...</td>\n",
       "    </tr>\n",
       "    <tr>\n",
       "      <th>47029</th>\n",
       "      <td>라라261690</td>\n",
       "      <td>0.0</td>\n",
       "      <td>MULTIPOLYGON (((127.78608 35.01564, 127.78608 ...</td>\n",
       "    </tr>\n",
       "    <tr>\n",
       "      <th>47030</th>\n",
       "      <td>라라261691</td>\n",
       "      <td>0.0</td>\n",
       "      <td>MULTIPOLYGON (((127.78608 35.01654, 127.78608 ...</td>\n",
       "    </tr>\n",
       "    <tr>\n",
       "      <th>47031</th>\n",
       "      <td>라라261692</td>\n",
       "      <td>0.0</td>\n",
       "      <td>MULTIPOLYGON (((127.78608 35.01744, 127.78609 ...</td>\n",
       "    </tr>\n",
       "  </tbody>\n",
       "</table>\n",
       "<p>44997 rows × 3 columns</p>\n",
       "</div>"
      ],
      "text/plain": [
       "            gid  val                                           geometry\n",
       "0      라라023745  0.0  MULTIPOLYGON (((127.52523 35.06557, 127.52523 ...\n",
       "1      라라023746  0.0  MULTIPOLYGON (((127.52523 35.06647, 127.52523 ...\n",
       "2      라라023747  0.0  MULTIPOLYGON (((127.52523 35.06737, 127.52523 ...\n",
       "3      라라023748  0.0  MULTIPOLYGON (((127.52523 35.06828, 127.52523 ...\n",
       "4      라라023749  0.0  MULTIPOLYGON (((127.52523 35.06918, 127.52523 ...\n",
       "...         ...  ...                                                ...\n",
       "47027  라라261688  0.0  MULTIPOLYGON (((127.78607 35.01384, 127.78607 ...\n",
       "47028  라라261689  0.0  MULTIPOLYGON (((127.78607 35.01474, 127.78608 ...\n",
       "47029  라라261690  0.0  MULTIPOLYGON (((127.78608 35.01564, 127.78608 ...\n",
       "47030  라라261691  0.0  MULTIPOLYGON (((127.78608 35.01654, 127.78608 ...\n",
       "47031  라라261692  0.0  MULTIPOLYGON (((127.78608 35.01744, 127.78609 ...\n",
       "\n",
       "[44997 rows x 3 columns]"
      ]
     },
     "execution_count": 38,
     "metadata": {
      "tags": []
     },
     "output_type": "execute_result"
    }
   ],
   "source": [
    "#인구가 0인곳이 45000개 정도\n",
    "인구분포도[인구분포도.val==0]"
   ]
  },
  {
   "cell_type": "code",
   "execution_count": null,
   "metadata": {
    "colab": {
     "base_uri": "https://localhost:8080/",
     "height": 284
    },
    "executionInfo": {
     "elapsed": 2721,
     "status": "ok",
     "timestamp": 1602640259686,
     "user": {
      "displayName": "정유진",
      "photoUrl": "",
      "userId": "16265369213700567816"
     },
     "user_tz": -540
    },
    "id": "uP1VUJRezNhc",
    "outputId": "7b632e99-ed9e-4b19-c52f-f12c0751d63e"
   },
   "outputs": [
    {
     "data": {
      "text/html": [
       "<div>\n",
       "<style scoped>\n",
       "    .dataframe tbody tr th:only-of-type {\n",
       "        vertical-align: middle;\n",
       "    }\n",
       "\n",
       "    .dataframe tbody tr th {\n",
       "        vertical-align: top;\n",
       "    }\n",
       "\n",
       "    .dataframe thead th {\n",
       "        text-align: right;\n",
       "    }\n",
       "</style>\n",
       "<table border=\"1\" class=\"dataframe\">\n",
       "  <thead>\n",
       "    <tr style=\"text-align: right;\">\n",
       "      <th></th>\n",
       "      <th>val</th>\n",
       "    </tr>\n",
       "  </thead>\n",
       "  <tbody>\n",
       "    <tr>\n",
       "      <th>count</th>\n",
       "      <td>2035.000000</td>\n",
       "    </tr>\n",
       "    <tr>\n",
       "      <th>mean</th>\n",
       "      <td>71.588698</td>\n",
       "    </tr>\n",
       "    <tr>\n",
       "      <th>std</th>\n",
       "      <td>158.595558</td>\n",
       "    </tr>\n",
       "    <tr>\n",
       "      <th>min</th>\n",
       "      <td>6.000000</td>\n",
       "    </tr>\n",
       "    <tr>\n",
       "      <th>25%</th>\n",
       "      <td>9.000000</td>\n",
       "    </tr>\n",
       "    <tr>\n",
       "      <th>50%</th>\n",
       "      <td>16.000000</td>\n",
       "    </tr>\n",
       "    <tr>\n",
       "      <th>75%</th>\n",
       "      <td>46.500000</td>\n",
       "    </tr>\n",
       "    <tr>\n",
       "      <th>max</th>\n",
       "      <td>2613.000000</td>\n",
       "    </tr>\n",
       "  </tbody>\n",
       "</table>\n",
       "</div>"
      ],
      "text/plain": [
       "               val\n",
       "count  2035.000000\n",
       "mean     71.588698\n",
       "std     158.595558\n",
       "min       6.000000\n",
       "25%       9.000000\n",
       "50%      16.000000\n",
       "75%      46.500000\n",
       "max    2613.000000"
      ]
     },
     "execution_count": 35,
     "metadata": {
      "tags": []
     },
     "output_type": "execute_result"
    }
   ],
   "source": [
    "# 인구 0 제외\n",
    "인구분포도2 = 인구분포도[인구분포도['val']!=0]\n",
    "인구분포도2.describe()"
   ]
  },
  {
   "cell_type": "code",
   "execution_count": null,
   "metadata": {
    "colab": {
     "base_uri": "https://localhost:8080/",
     "height": 34
    },
    "executionInfo": {
     "elapsed": 7730,
     "status": "ok",
     "timestamp": 1602639315307,
     "user": {
      "displayName": "정유진",
      "photoUrl": "",
      "userId": "16265369213700567816"
     },
     "user_tz": -540
    },
    "id": "NXHKeJedjIzO",
    "outputId": "dc9115b2-5553-49d0-a0c1-1daa0d4515f1"
   },
   "outputs": [
    {
     "data": {
      "text/plain": [
       "1.0004932768754573e-05"
      ]
     },
     "execution_count": 13,
     "metadata": {
      "tags": []
     },
     "output_type": "execute_result"
    }
   ],
   "source": [
    "축척 = sum([\n",
    "    *(인구분포도['geometry'].bounds['maxx'] - 인구분포도['geometry'].bounds['minx']),\n",
    "    *(인구분포도['geometry'].bounds['maxy'] - 인구분포도['geometry'].bounds['miny']),\n",
    "]) / (2 * len(인구분포도)) / 100\n",
    "축척"
   ]
  },
  {
   "cell_type": "code",
   "execution_count": null,
   "metadata": {
    "colab": {
     "base_uri": "https://localhost:8080/",
     "height": 34
    },
    "executionInfo": {
     "elapsed": 1548,
     "status": "ok",
     "timestamp": 1602639391179,
     "user": {
      "displayName": "정유진",
      "photoUrl": "",
      "userId": "16265369213700567816"
     },
     "user_tz": -540
    },
    "id": "m_yrZ7MNoXvs",
    "outputId": "58e76cdb-70dd-4fcb-93f9-1812e84a3e7c"
   },
   "outputs": [
    {
     "data": {
      "text/plain": [
       "15000.0"
      ]
     },
     "execution_count": 17,
     "metadata": {
      "tags": []
     },
     "output_type": "execute_result"
    }
   ],
   "source": [
    "#차 속도 = 60km/h\n",
    "#15분 이내의 충전소에 간다고 가정 --> 15분에 15km (15000m)\n",
    "속도 = 60\n",
    "거리 = 60*1000/4\n",
    "거리"
   ]
  },
  {
   "cell_type": "code",
   "execution_count": null,
   "metadata": {
    "id": "pPBlfVwwmg-k"
   },
   "outputs": [],
   "source": [
    "주차장 = pd.read_excel('/gdrive/My Drive/광양시 데이터/chargingStation.xlsx')"
   ]
  },
  {
   "cell_type": "code",
   "execution_count": null,
   "metadata": {
    "id": "v-8GQZTzwyIY"
   },
   "outputs": [],
   "source": [
    "# 전체 인구분포로 계산\n",
    "인구분포도_경위도 = np.stack([인구분포도['geometry'].centroid.x, 인구분포도['geometry'].centroid.y], axis=1).reshape([1, -1, 2])\n",
    "\n",
    "for i in range(len(주차장)):\n",
    "  주차장_경위도 = np.stack([주차장.lon,주차장.lat], axis=1).reshape([-1,1,2])\n",
    "  인구분포_조건 = np.sum((주차장_경위도 - 인구분포도_경위도)**2, axis=2)**0.5 < 거리*축척\n",
    "  인구분포 = np.array([인구분포도.loc[x,'val'].mean() for x in 인구분포_조건])"
   ]
  },
  {
   "cell_type": "code",
   "execution_count": null,
   "metadata": {
    "colab": {
     "base_uri": "https://localhost:8080/",
     "height": 175
    },
    "executionInfo": {
     "elapsed": 1552,
     "status": "ok",
     "timestamp": 1602639852613,
     "user": {
      "displayName": "정유진",
      "photoUrl": "",
      "userId": "16265369213700567816"
     },
     "user_tz": -540
    },
    "id": "QJjvJk5JxqAl",
    "outputId": "cab227dd-8420-4f04-d2f3-6e14b5c14f80"
   },
   "outputs": [
    {
     "data": {
      "text/plain": [
       "array([4.13780676, 3.94374436, 3.94284392, 4.07910539, 3.98849976,\n",
       "       4.26979216, 3.87311472, 3.94010059, 4.03072882, 4.09215835,\n",
       "       4.09309705, 3.56636364, 4.10421232, 4.06164557, 4.18886185,\n",
       "       4.11463436, 4.05412107, 4.04064738, 3.96358559, 4.18519484,\n",
       "       4.05768534, 3.7108969 , 3.7108969 , 3.63353363, 3.63353363,\n",
       "       4.07288864, 4.12461434, 4.12461434, 4.35375053, 4.32416891,\n",
       "       4.26915915, 4.46139546, 3.99641122, 4.27896233, 4.27896233,\n",
       "       4.37441247, 4.34891425, 4.3175405 , 3.93060682, 3.66888111,\n",
       "       3.66888111, 3.734696  , 3.734696  , 3.93369842])"
      ]
     },
     "execution_count": 28,
     "metadata": {
      "tags": []
     },
     "output_type": "execute_result"
    }
   ],
   "source": [
    "인구분포"
   ]
  },
  {
   "cell_type": "code",
   "execution_count": null,
   "metadata": {
    "id": "irzr0InWzxk0"
   },
   "outputs": [],
   "source": [
    "#인구 0인 곳 제외하고 계산\n",
    "인구분포도_경위도2 = np.stack([인구분포도2['geometry'].centroid.x, 인구분포도2['geometry'].centroid.y], axis=1).reshape([1, -1, 2])\n",
    "for i in range(len(주차장)):\n",
    "  주차장_경위도 = np.stack([주차장.lon,주차장.lat], axis=1).reshape([-1,1,2])\n",
    "  인구분포_조건2 = np.sum((주차장_경위도 - 인구분포도_경위도2)**2, axis=2)**0.5 < 거리*축척\n",
    "  인구분포2 = np.array([인구분포도2.loc[x,'val'].mean() for x in 인구분포_조건2])"
   ]
  },
  {
   "cell_type": "code",
   "execution_count": null,
   "metadata": {
    "colab": {
     "base_uri": "https://localhost:8080/",
     "height": 175
    },
    "executionInfo": {
     "elapsed": 1113,
     "status": "ok",
     "timestamp": 1602640395642,
     "user": {
      "displayName": "정유진",
      "photoUrl": "",
      "userId": "16265369213700567816"
     },
     "user_tz": -540
    },
    "id": "ZdgeIQIKz6vK",
    "outputId": "f1e50c6d-407c-471d-cff2-2b1a4f95bb6f"
   },
   "outputs": [
    {
     "data": {
      "text/plain": [
       "array([83.42906574, 81.48586891, 74.44575835, 74.91688865, 78.14635807,\n",
       "       83.75965665, 82.64132104, 83.29261863, 75.53405839, 83.01415385,\n",
       "       75.87902331, 73.16078629, 83.13686806, 74.81282316, 75.09922078,\n",
       "       75.39989119, 74.82956339, 82.79733164, 74.54479918, 75.0987013 ,\n",
       "       75.476137  , 82.27616535, 82.27616535, 81.2896791 , 81.2896791 ,\n",
       "       85.58565401, 82.08947368, 82.08947368, 75.86330179, 75.59371728,\n",
       "       75.38987474, 76.5528974 , 74.54479918, 75.33472367, 75.33472367,\n",
       "       75.8837454 , 75.56096285, 75.42506527, 74.35061602, 77.03272532,\n",
       "       77.03272532, 77.40474906, 77.40474906, 81.14755043])"
      ]
     },
     "execution_count": 37,
     "metadata": {
      "tags": []
     },
     "output_type": "execute_result"
    }
   ],
   "source": [
    "인구분포2"
   ]
  },
  {
   "cell_type": "markdown",
   "metadata": {
    "id": "xWdmAEJW2d_B"
   },
   "source": [
    "# 자동차 분포\n"
   ]
  },
  {
   "cell_type": "code",
   "execution_count": null,
   "metadata": {
    "colab": {
     "base_uri": "https://localhost:8080/",
     "height": 402
    },
    "executionInfo": {
     "elapsed": 5442,
     "status": "ok",
     "timestamp": 1602641263621,
     "user": {
      "displayName": "정유진",
      "photoUrl": "",
      "userId": "16265369213700567816"
     },
     "user_tz": -540
    },
    "id": "lmaUMPr12jkP",
    "outputId": "5f66a213-911f-4b5c-e8e3-30103ffa148e"
   },
   "outputs": [
    {
     "data": {
      "text/html": [
       "<div>\n",
       "<style scoped>\n",
       "    .dataframe tbody tr th:only-of-type {\n",
       "        vertical-align: middle;\n",
       "    }\n",
       "\n",
       "    .dataframe tbody tr th {\n",
       "        vertical-align: top;\n",
       "    }\n",
       "\n",
       "    .dataframe thead th {\n",
       "        text-align: right;\n",
       "    }\n",
       "</style>\n",
       "<table border=\"1\" class=\"dataframe\">\n",
       "  <thead>\n",
       "    <tr style=\"text-align: right;\">\n",
       "      <th></th>\n",
       "      <th>id</th>\n",
       "      <th>totale</th>\n",
       "      <th>geometry</th>\n",
       "    </tr>\n",
       "  </thead>\n",
       "  <tbody>\n",
       "    <tr>\n",
       "      <th>0</th>\n",
       "      <td>146</td>\n",
       "      <td>0</td>\n",
       "      <td>POLYGON ((127.52550 35.07616, 127.52640 35.076...</td>\n",
       "    </tr>\n",
       "    <tr>\n",
       "      <th>1</th>\n",
       "      <td>147</td>\n",
       "      <td>0</td>\n",
       "      <td>POLYGON ((127.52550 35.07543, 127.52640 35.075...</td>\n",
       "    </tr>\n",
       "    <tr>\n",
       "      <th>2</th>\n",
       "      <td>148</td>\n",
       "      <td>0</td>\n",
       "      <td>POLYGON ((127.52550 35.07469, 127.52640 35.074...</td>\n",
       "    </tr>\n",
       "    <tr>\n",
       "      <th>3</th>\n",
       "      <td>149</td>\n",
       "      <td>0</td>\n",
       "      <td>POLYGON ((127.52550 35.07396, 127.52640 35.073...</td>\n",
       "    </tr>\n",
       "    <tr>\n",
       "      <th>4</th>\n",
       "      <td>150</td>\n",
       "      <td>0</td>\n",
       "      <td>POLYGON ((127.52550 35.07322, 127.52640 35.073...</td>\n",
       "    </tr>\n",
       "    <tr>\n",
       "      <th>...</th>\n",
       "      <td>...</td>\n",
       "      <td>...</td>\n",
       "      <td>...</td>\n",
       "    </tr>\n",
       "    <tr>\n",
       "      <th>69954</th>\n",
       "      <td>117103</td>\n",
       "      <td>0</td>\n",
       "      <td>POLYGON ((127.78602 35.01218, 127.78691 35.012...</td>\n",
       "    </tr>\n",
       "    <tr>\n",
       "      <th>69955</th>\n",
       "      <td>117104</td>\n",
       "      <td>0</td>\n",
       "      <td>POLYGON ((127.78602 35.01144, 127.78691 35.011...</td>\n",
       "    </tr>\n",
       "    <tr>\n",
       "      <th>69956</th>\n",
       "      <td>117105</td>\n",
       "      <td>0</td>\n",
       "      <td>POLYGON ((127.78602 35.01071, 127.78691 35.010...</td>\n",
       "    </tr>\n",
       "    <tr>\n",
       "      <th>69957</th>\n",
       "      <td>117106</td>\n",
       "      <td>0</td>\n",
       "      <td>POLYGON ((127.78602 35.00997, 127.78691 35.009...</td>\n",
       "    </tr>\n",
       "    <tr>\n",
       "      <th>69958</th>\n",
       "      <td>117107</td>\n",
       "      <td>0</td>\n",
       "      <td>POLYGON ((127.78602 35.00924, 127.78691 35.009...</td>\n",
       "    </tr>\n",
       "  </tbody>\n",
       "</table>\n",
       "<p>69959 rows × 3 columns</p>\n",
       "</div>"
      ],
      "text/plain": [
       "           id  totale                                           geometry\n",
       "0         146       0  POLYGON ((127.52550 35.07616, 127.52640 35.076...\n",
       "1         147       0  POLYGON ((127.52550 35.07543, 127.52640 35.075...\n",
       "2         148       0  POLYGON ((127.52550 35.07469, 127.52640 35.074...\n",
       "3         149       0  POLYGON ((127.52550 35.07396, 127.52640 35.073...\n",
       "4         150       0  POLYGON ((127.52550 35.07322, 127.52640 35.073...\n",
       "...       ...     ...                                                ...\n",
       "69954  117103       0  POLYGON ((127.78602 35.01218, 127.78691 35.012...\n",
       "69955  117104       0  POLYGON ((127.78602 35.01144, 127.78691 35.011...\n",
       "69956  117105       0  POLYGON ((127.78602 35.01071, 127.78691 35.010...\n",
       "69957  117106       0  POLYGON ((127.78602 35.00997, 127.78691 35.009...\n",
       "69958  117107       0  POLYGON ((127.78602 35.00924, 127.78691 35.009...\n",
       "\n",
       "[69959 rows x 3 columns]"
      ]
     },
     "execution_count": 40,
     "metadata": {
      "tags": []
     },
     "output_type": "execute_result"
    }
   ],
   "source": [
    "자동차 = gpd.read_file(\"/gdrive/My Drive/광양시 데이터/03.광양시_자동차등록현황_격자(100X100).geojson\")\n",
    "자동차"
   ]
  },
  {
   "cell_type": "code",
   "execution_count": null,
   "metadata": {
    "colab": {
     "base_uri": "https://localhost:8080/",
     "height": 284
    },
    "executionInfo": {
     "elapsed": 1552,
     "status": "ok",
     "timestamp": 1602641541005,
     "user": {
      "displayName": "정유진",
      "photoUrl": "",
      "userId": "16265369213700567816"
     },
     "user_tz": -540
    },
    "id": "wg9qCVPf4QVr",
    "outputId": "5d8b8746-5751-443f-9cec-3ffb619b3e84"
   },
   "outputs": [
    {
     "data": {
      "text/html": [
       "<div>\n",
       "<style scoped>\n",
       "    .dataframe tbody tr th:only-of-type {\n",
       "        vertical-align: middle;\n",
       "    }\n",
       "\n",
       "    .dataframe tbody tr th {\n",
       "        vertical-align: top;\n",
       "    }\n",
       "\n",
       "    .dataframe thead th {\n",
       "        text-align: right;\n",
       "    }\n",
       "</style>\n",
       "<table border=\"1\" class=\"dataframe\">\n",
       "  <thead>\n",
       "    <tr style=\"text-align: right;\">\n",
       "      <th></th>\n",
       "      <th>id</th>\n",
       "      <th>totale</th>\n",
       "    </tr>\n",
       "  </thead>\n",
       "  <tbody>\n",
       "    <tr>\n",
       "      <th>count</th>\n",
       "      <td>69959.000000</td>\n",
       "      <td>69959.000000</td>\n",
       "    </tr>\n",
       "    <tr>\n",
       "      <th>mean</th>\n",
       "      <td>58268.185537</td>\n",
       "      <td>0.226733</td>\n",
       "    </tr>\n",
       "    <tr>\n",
       "      <th>std</th>\n",
       "      <td>27381.578314</td>\n",
       "      <td>3.459083</td>\n",
       "    </tr>\n",
       "    <tr>\n",
       "      <th>min</th>\n",
       "      <td>146.000000</td>\n",
       "      <td>0.000000</td>\n",
       "    </tr>\n",
       "    <tr>\n",
       "      <th>25%</th>\n",
       "      <td>37285.500000</td>\n",
       "      <td>0.000000</td>\n",
       "    </tr>\n",
       "    <tr>\n",
       "      <th>50%</th>\n",
       "      <td>56760.000000</td>\n",
       "      <td>0.000000</td>\n",
       "    </tr>\n",
       "    <tr>\n",
       "      <th>75%</th>\n",
       "      <td>78881.500000</td>\n",
       "      <td>0.000000</td>\n",
       "    </tr>\n",
       "    <tr>\n",
       "      <th>max</th>\n",
       "      <td>117107.000000</td>\n",
       "      <td>246.000000</td>\n",
       "    </tr>\n",
       "  </tbody>\n",
       "</table>\n",
       "</div>"
      ],
      "text/plain": [
       "                  id        totale\n",
       "count   69959.000000  69959.000000\n",
       "mean    58268.185537      0.226733\n",
       "std     27381.578314      3.459083\n",
       "min       146.000000      0.000000\n",
       "25%     37285.500000      0.000000\n",
       "50%     56760.000000      0.000000\n",
       "75%     78881.500000      0.000000\n",
       "max    117107.000000    246.000000"
      ]
     },
     "execution_count": 44,
     "metadata": {
      "tags": []
     },
     "output_type": "execute_result"
    }
   ],
   "source": [
    "자동차.describe()"
   ]
  },
  {
   "cell_type": "code",
   "execution_count": null,
   "metadata": {
    "id": "p21uDa4D3oOz"
   },
   "outputs": [],
   "source": [
    "자동차_경위도 = np.stack([자동차['geometry'].centroid.x, 자동차['geometry'].centroid.y], axis=1).reshape([1, -1, 2])"
   ]
  },
  {
   "cell_type": "code",
   "execution_count": null,
   "metadata": {
    "id": "xNz5XgyY3kIr"
   },
   "outputs": [],
   "source": [
    "for i in range(len(주차장)):\n",
    "    주차장_경위도 = np.stack([주차장.lon,주차장.lat], axis=1).reshape([-1,1,2])\n",
    "    조건 = np.sum((주차장_경위도 - 자동차_경위도)**2, axis=2)**0.5 < 거리*축척\n",
    "    자동차분포 = np.array([자동차.loc[x,'totale'].mean() for x in 조건])"
   ]
  },
  {
   "cell_type": "code",
   "execution_count": null,
   "metadata": {
    "colab": {
     "base_uri": "https://localhost:8080/",
     "height": 175
    },
    "executionInfo": {
     "elapsed": 1556,
     "status": "ok",
     "timestamp": 1602641601399,
     "user": {
      "displayName": "정유진",
      "photoUrl": "",
      "userId": "16265369213700567816"
     },
     "user_tz": -540
    },
    "id": "Rj5f2lLQ4MIR",
    "outputId": "8d16ecef-b012-4fa5-af54-84fa725db36c"
   },
   "outputs": [
    {
     "data": {
      "text/plain": [
       "array([0.28992033, 0.27675985, 0.28747802, 0.29653692, 0.29620188,\n",
       "       0.30014928, 0.29064588, 0.29744694, 0.29372985, 0.28650998,\n",
       "       0.29729566, 0.26003369, 0.28746597, 0.29592145, 0.30507583,\n",
       "       0.29986022, 0.29430258, 0.28249719, 0.28886924, 0.30488137,\n",
       "       0.29832257, 0.28050211, 0.28050211, 0.2750267 , 0.2750267 ,\n",
       "       0.30410352, 0.2890571 , 0.2890571 , 0.31666125, 0.31456326,\n",
       "       0.31070065, 0.32440321, 0.29118838, 0.3116407 , 0.3116407 ,\n",
       "       0.31824859, 0.31658526, 0.31437306, 0.28654352, 0.26521956,\n",
       "       0.26521956, 0.26971289, 0.26971289, 0.2757973 ])"
      ]
     },
     "execution_count": 46,
     "metadata": {
      "tags": []
     },
     "output_type": "execute_result"
    }
   ],
   "source": [
    "자동차분포"
   ]
  }
 ],
 "metadata": {
  "accelerator": "GPU",
  "colab": {
   "collapsed_sections": [],
   "name": "주차장-인구&자동차분포.ipynb",
   "provenance": []
  },
  "kernelspec": {
   "display_name": "Python 3",
   "language": "python",
   "name": "python3"
  },
  "language_info": {
   "codemirror_mode": {
    "name": "ipython",
    "version": 3
   },
   "file_extension": ".py",
   "mimetype": "text/x-python",
   "name": "python",
   "nbconvert_exporter": "python",
   "pygments_lexer": "ipython3",
   "version": "3.8.5"
  }
 },
 "nbformat": 4,
 "nbformat_minor": 1
}
