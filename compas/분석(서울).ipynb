{
 "cells": [
  {
   "cell_type": "markdown",
   "metadata": {},
   "source": [
    "# 1. 서울시 각 구 면적 당 쓰레기통 개수 비율"
   ]
  },
  {
   "cell_type": "code",
   "execution_count": 1,
   "metadata": {},
   "outputs": [],
   "source": [
    "import pandas as pd\n",
    "import matplotlib.pyplot as plt\n",
    "import seaborn as sns"
   ]
  },
  {
   "cell_type": "code",
   "execution_count": 2,
   "metadata": {},
   "outputs": [
    {
     "data": {
      "text/plain": [
       "25"
      ]
     },
     "execution_count": 2,
     "metadata": {},
     "output_type": "execute_result"
    }
   ],
   "source": [
    "gu_names = [\"강서구\",'강동구', '강남구', '성북구', '중구', '은평구', '금천구', '광진구', '서대문구', '중랑구', '강북구', '관악구' ,'구로구'\n",
    "            ,'영등포구', '마포구', '종로구', '도봉구','용산구', '동작구', '서초구', '송파구','노원구','성동구', '양천구', '동대문구' ]\n",
    "len(gu_names)"
   ]
  },
  {
   "cell_type": "code",
   "execution_count": 3,
   "metadata": {},
   "outputs": [],
   "source": [
    "#각 구 별 면적\n",
    "gu_area = {\"강서구\":41.4,\"강동구\":24.58,'강남구':39.54, '성북구':24.57, '중구':9.96, '은평구':29.72, '금천구':13, '광진구':17.05, '서대문구':17.61, '중랑구':18.5, '강북구':23.6, '관악구':29.57 ,'구로구':20.11\n",
    "            ,'영등포구':24.57, '마포구':23.87, '종로구':23.91, '도봉구':20.8,'용산구':21.87, '동작구':16.36, '서초구':47.03, '송파구':33.89,'노원구':35.42,'성동구':16.85, '양천구':17.4, '동대문구':14.22 }"
   ]
  },
  {
   "cell_type": "code",
   "execution_count": 4,
   "metadata": {
    "scrolled": true
   },
   "outputs": [
    {
     "data": {
      "text/plain": [
       "{'강서구': 41.4,\n",
       " '강동구': 24.58,\n",
       " '강남구': 39.54,\n",
       " '성북구': 24.57,\n",
       " '중구': 9.96,\n",
       " '은평구': 29.72,\n",
       " '금천구': 13,\n",
       " '광진구': 17.05,\n",
       " '서대문구': 17.61,\n",
       " '중랑구': 18.5,\n",
       " '강북구': 23.6,\n",
       " '관악구': 29.57,\n",
       " '구로구': 20.11,\n",
       " '영등포구': 24.57,\n",
       " '마포구': 23.87,\n",
       " '종로구': 23.91,\n",
       " '도봉구': 20.8,\n",
       " '용산구': 21.87,\n",
       " '동작구': 16.36,\n",
       " '서초구': 47.03,\n",
       " '송파구': 33.89,\n",
       " '노원구': 35.42,\n",
       " '성동구': 16.85,\n",
       " '양천구': 17.4,\n",
       " '동대문구': 14.22}"
      ]
     },
     "execution_count": 4,
     "metadata": {},
     "output_type": "execute_result"
    }
   ],
   "source": [
    "gu_area"
   ]
  },
  {
   "cell_type": "markdown",
   "metadata": {},
   "source": [
    "광진구 전체파일:206, 개별 파일:194\n",
    "중랑구 개별파일:61, 개별 파일:76\n",
    "동대문구 전체파일:206, 개별파일:144\n"
   ]
  },
  {
   "cell_type": "code",
   "execution_count": 5,
   "metadata": {},
   "outputs": [],
   "source": [
    "gu_trashcan = {\"강서구\":274,\"강동구\":436,'강남구':980, '성북구':175, '중구':360, '은평구':315, '금천구':139, '광진구':194, '서대문구':282, '중랑구':61, '강북구':204, '관악구':175 ,'구로구':325\n",
    "            ,'영등포구':189, '마포구':274, '종로구':304, '도봉구':200,'용산구':267, '동작구':167, '서초구':250, '송파구':301,'노원구':54,'성동구':172, '양천구':106, '동대문구':144 }"
   ]
  },
  {
   "cell_type": "code",
   "execution_count": 6,
   "metadata": {
    "scrolled": true
   },
   "outputs": [
    {
     "data": {
      "text/plain": [
       "{'강서구': 274,\n",
       " '강동구': 436,\n",
       " '강남구': 980,\n",
       " '성북구': 175,\n",
       " '중구': 360,\n",
       " '은평구': 315,\n",
       " '금천구': 139,\n",
       " '광진구': 194,\n",
       " '서대문구': 282,\n",
       " '중랑구': 61,\n",
       " '강북구': 204,\n",
       " '관악구': 175,\n",
       " '구로구': 325,\n",
       " '영등포구': 189,\n",
       " '마포구': 274,\n",
       " '종로구': 304,\n",
       " '도봉구': 200,\n",
       " '용산구': 267,\n",
       " '동작구': 167,\n",
       " '서초구': 250,\n",
       " '송파구': 301,\n",
       " '노원구': 54,\n",
       " '성동구': 172,\n",
       " '양천구': 106,\n",
       " '동대문구': 144}"
      ]
     },
     "execution_count": 6,
     "metadata": {},
     "output_type": "execute_result"
    }
   ],
   "source": [
    "gu_trashcan"
   ]
  },
  {
   "cell_type": "code",
   "execution_count": 7,
   "metadata": {},
   "outputs": [],
   "source": [
    "area_list=list(gu_area.values())\n",
    "trashcan_list = list(gu_trashcan.values())"
   ]
  },
  {
   "cell_type": "code",
   "execution_count": 8,
   "metadata": {
    "scrolled": true
   },
   "outputs": [
    {
     "data": {
      "text/plain": [
       "[6.618357487922705,\n",
       " 17.7379983726607,\n",
       " 24.785027819929187,\n",
       " 7.122507122507122,\n",
       " 36.14457831325301,\n",
       " 10.598923283983849,\n",
       " 10.692307692307692,\n",
       " 11.378299120234603,\n",
       " 16.013628620102214,\n",
       " 3.2972972972972974,\n",
       " 8.64406779661017,\n",
       " 5.918160297598917,\n",
       " 16.16111387369468,\n",
       " 7.6923076923076925,\n",
       " 11.478843736908253,\n",
       " 12.714345462149728,\n",
       " 9.615384615384615,\n",
       " 12.208504801097392,\n",
       " 10.207823960880196,\n",
       " 5.31575590048905,\n",
       " 8.881676010622602,\n",
       " 1.5245623941276114,\n",
       " 10.207715133531156,\n",
       " 6.0919540229885065,\n",
       " 10.126582278481012]"
      ]
     },
     "execution_count": 8,
     "metadata": {},
     "output_type": "execute_result"
    }
   ],
   "source": [
    "area_trashcan=[]\n",
    "for i in range(len(area_list)):\n",
    "    area_trashcan.append(trashcan_list[i]/area_list[i])\n",
    "area_trashcan"
   ]
  },
  {
   "cell_type": "code",
   "execution_count": 9,
   "metadata": {
    "scrolled": true
   },
   "outputs": [
    {
     "data": {
      "text/html": [
       "<div>\n",
       "<style scoped>\n",
       "    .dataframe tbody tr th:only-of-type {\n",
       "        vertical-align: middle;\n",
       "    }\n",
       "\n",
       "    .dataframe tbody tr th {\n",
       "        vertical-align: top;\n",
       "    }\n",
       "\n",
       "    .dataframe thead th {\n",
       "        text-align: right;\n",
       "    }\n",
       "</style>\n",
       "<table border=\"1\" class=\"dataframe\">\n",
       "  <thead>\n",
       "    <tr style=\"text-align: right;\">\n",
       "      <th></th>\n",
       "      <th>area(km2)</th>\n",
       "      <th>trashcan</th>\n",
       "      <th>trashcan/area</th>\n",
       "    </tr>\n",
       "  </thead>\n",
       "  <tbody>\n",
       "    <tr>\n",
       "      <td>강서구</td>\n",
       "      <td>41.40</td>\n",
       "      <td>274</td>\n",
       "      <td>6.618357</td>\n",
       "    </tr>\n",
       "    <tr>\n",
       "      <td>강동구</td>\n",
       "      <td>24.58</td>\n",
       "      <td>436</td>\n",
       "      <td>17.737998</td>\n",
       "    </tr>\n",
       "    <tr>\n",
       "      <td>강남구</td>\n",
       "      <td>39.54</td>\n",
       "      <td>980</td>\n",
       "      <td>24.785028</td>\n",
       "    </tr>\n",
       "    <tr>\n",
       "      <td>성북구</td>\n",
       "      <td>24.57</td>\n",
       "      <td>175</td>\n",
       "      <td>7.122507</td>\n",
       "    </tr>\n",
       "    <tr>\n",
       "      <td>중구</td>\n",
       "      <td>9.96</td>\n",
       "      <td>360</td>\n",
       "      <td>36.144578</td>\n",
       "    </tr>\n",
       "    <tr>\n",
       "      <td>은평구</td>\n",
       "      <td>29.72</td>\n",
       "      <td>315</td>\n",
       "      <td>10.598923</td>\n",
       "    </tr>\n",
       "    <tr>\n",
       "      <td>금천구</td>\n",
       "      <td>13.00</td>\n",
       "      <td>139</td>\n",
       "      <td>10.692308</td>\n",
       "    </tr>\n",
       "    <tr>\n",
       "      <td>광진구</td>\n",
       "      <td>17.05</td>\n",
       "      <td>194</td>\n",
       "      <td>11.378299</td>\n",
       "    </tr>\n",
       "    <tr>\n",
       "      <td>서대문구</td>\n",
       "      <td>17.61</td>\n",
       "      <td>282</td>\n",
       "      <td>16.013629</td>\n",
       "    </tr>\n",
       "    <tr>\n",
       "      <td>중랑구</td>\n",
       "      <td>18.50</td>\n",
       "      <td>61</td>\n",
       "      <td>3.297297</td>\n",
       "    </tr>\n",
       "    <tr>\n",
       "      <td>강북구</td>\n",
       "      <td>23.60</td>\n",
       "      <td>204</td>\n",
       "      <td>8.644068</td>\n",
       "    </tr>\n",
       "    <tr>\n",
       "      <td>관악구</td>\n",
       "      <td>29.57</td>\n",
       "      <td>175</td>\n",
       "      <td>5.918160</td>\n",
       "    </tr>\n",
       "    <tr>\n",
       "      <td>구로구</td>\n",
       "      <td>20.11</td>\n",
       "      <td>325</td>\n",
       "      <td>16.161114</td>\n",
       "    </tr>\n",
       "    <tr>\n",
       "      <td>영등포구</td>\n",
       "      <td>24.57</td>\n",
       "      <td>189</td>\n",
       "      <td>7.692308</td>\n",
       "    </tr>\n",
       "    <tr>\n",
       "      <td>마포구</td>\n",
       "      <td>23.87</td>\n",
       "      <td>274</td>\n",
       "      <td>11.478844</td>\n",
       "    </tr>\n",
       "    <tr>\n",
       "      <td>종로구</td>\n",
       "      <td>23.91</td>\n",
       "      <td>304</td>\n",
       "      <td>12.714345</td>\n",
       "    </tr>\n",
       "    <tr>\n",
       "      <td>도봉구</td>\n",
       "      <td>20.80</td>\n",
       "      <td>200</td>\n",
       "      <td>9.615385</td>\n",
       "    </tr>\n",
       "    <tr>\n",
       "      <td>용산구</td>\n",
       "      <td>21.87</td>\n",
       "      <td>267</td>\n",
       "      <td>12.208505</td>\n",
       "    </tr>\n",
       "    <tr>\n",
       "      <td>동작구</td>\n",
       "      <td>16.36</td>\n",
       "      <td>167</td>\n",
       "      <td>10.207824</td>\n",
       "    </tr>\n",
       "    <tr>\n",
       "      <td>서초구</td>\n",
       "      <td>47.03</td>\n",
       "      <td>250</td>\n",
       "      <td>5.315756</td>\n",
       "    </tr>\n",
       "    <tr>\n",
       "      <td>송파구</td>\n",
       "      <td>33.89</td>\n",
       "      <td>301</td>\n",
       "      <td>8.881676</td>\n",
       "    </tr>\n",
       "    <tr>\n",
       "      <td>노원구</td>\n",
       "      <td>35.42</td>\n",
       "      <td>54</td>\n",
       "      <td>1.524562</td>\n",
       "    </tr>\n",
       "    <tr>\n",
       "      <td>성동구</td>\n",
       "      <td>16.85</td>\n",
       "      <td>172</td>\n",
       "      <td>10.207715</td>\n",
       "    </tr>\n",
       "    <tr>\n",
       "      <td>양천구</td>\n",
       "      <td>17.40</td>\n",
       "      <td>106</td>\n",
       "      <td>6.091954</td>\n",
       "    </tr>\n",
       "    <tr>\n",
       "      <td>동대문구</td>\n",
       "      <td>14.22</td>\n",
       "      <td>144</td>\n",
       "      <td>10.126582</td>\n",
       "    </tr>\n",
       "  </tbody>\n",
       "</table>\n",
       "</div>"
      ],
      "text/plain": [
       "      area(km2)  trashcan  trashcan/area\n",
       "강서구       41.40       274       6.618357\n",
       "강동구       24.58       436      17.737998\n",
       "강남구       39.54       980      24.785028\n",
       "성북구       24.57       175       7.122507\n",
       "중구         9.96       360      36.144578\n",
       "은평구       29.72       315      10.598923\n",
       "금천구       13.00       139      10.692308\n",
       "광진구       17.05       194      11.378299\n",
       "서대문구      17.61       282      16.013629\n",
       "중랑구       18.50        61       3.297297\n",
       "강북구       23.60       204       8.644068\n",
       "관악구       29.57       175       5.918160\n",
       "구로구       20.11       325      16.161114\n",
       "영등포구      24.57       189       7.692308\n",
       "마포구       23.87       274      11.478844\n",
       "종로구       23.91       304      12.714345\n",
       "도봉구       20.80       200       9.615385\n",
       "용산구       21.87       267      12.208505\n",
       "동작구       16.36       167      10.207824\n",
       "서초구       47.03       250       5.315756\n",
       "송파구       33.89       301       8.881676\n",
       "노원구       35.42        54       1.524562\n",
       "성동구       16.85       172      10.207715\n",
       "양천구       17.40       106       6.091954\n",
       "동대문구      14.22       144      10.126582"
      ]
     },
     "execution_count": 9,
     "metadata": {},
     "output_type": "execute_result"
    }
   ],
   "source": [
    "gu_area_series = pd.Series(gu_area)\n",
    "gu_trashcan_series = pd.Series(gu_trashcan)\n",
    "\n",
    "df = pd.DataFrame({'area(km2)':gu_area_series,\n",
    "                  'trashcan':gu_trashcan_series})\n",
    "df['trashcan/area']=area_trashcan\n",
    "df"
   ]
  },
  {
   "cell_type": "code",
   "execution_count": 14,
   "metadata": {
    "scrolled": true
   },
   "outputs": [
    {
     "data": {
      "text/html": [
       "<div>\n",
       "<style scoped>\n",
       "    .dataframe tbody tr th:only-of-type {\n",
       "        vertical-align: middle;\n",
       "    }\n",
       "\n",
       "    .dataframe tbody tr th {\n",
       "        vertical-align: top;\n",
       "    }\n",
       "\n",
       "    .dataframe thead th {\n",
       "        text-align: right;\n",
       "    }\n",
       "</style>\n",
       "<table border=\"1\" class=\"dataframe\">\n",
       "  <thead>\n",
       "    <tr style=\"text-align: right;\">\n",
       "      <th></th>\n",
       "      <th>area(km2)</th>\n",
       "      <th>trashcan</th>\n",
       "      <th>trashcan/area</th>\n",
       "    </tr>\n",
       "  </thead>\n",
       "  <tbody>\n",
       "    <tr>\n",
       "      <td>중구</td>\n",
       "      <td>9.96</td>\n",
       "      <td>360</td>\n",
       "      <td>36.144578</td>\n",
       "    </tr>\n",
       "    <tr>\n",
       "      <td>강남구</td>\n",
       "      <td>39.54</td>\n",
       "      <td>980</td>\n",
       "      <td>24.785028</td>\n",
       "    </tr>\n",
       "    <tr>\n",
       "      <td>강동구</td>\n",
       "      <td>24.58</td>\n",
       "      <td>436</td>\n",
       "      <td>17.737998</td>\n",
       "    </tr>\n",
       "    <tr>\n",
       "      <td>구로구</td>\n",
       "      <td>20.11</td>\n",
       "      <td>325</td>\n",
       "      <td>16.161114</td>\n",
       "    </tr>\n",
       "    <tr>\n",
       "      <td>서대문구</td>\n",
       "      <td>17.61</td>\n",
       "      <td>282</td>\n",
       "      <td>16.013629</td>\n",
       "    </tr>\n",
       "  </tbody>\n",
       "</table>\n",
       "</div>"
      ],
      "text/plain": [
       "      area(km2)  trashcan  trashcan/area\n",
       "중구         9.96       360      36.144578\n",
       "강남구       39.54       980      24.785028\n",
       "강동구       24.58       436      17.737998\n",
       "구로구       20.11       325      16.161114\n",
       "서대문구      17.61       282      16.013629"
      ]
     },
     "execution_count": 14,
     "metadata": {},
     "output_type": "execute_result"
    }
   ],
   "source": [
    "#면적대비 쓰레기통이 개수 상위 5구\n",
    "df.sort_values(by='trashcan/area', ascending=False).head()"
   ]
  },
  {
   "cell_type": "code",
   "execution_count": 16,
   "metadata": {},
   "outputs": [
    {
     "data": {
      "text/plain": [
       "Text(0.5, 1.0, '면적대비 쓰레기통 개수 상위10구')"
      ]
     },
     "execution_count": 16,
     "metadata": {},
     "output_type": "execute_result"
    },
    {
     "data": {
      "image/png": "[encoded data removed]",
      "text/plain": [
       "<Figure size 432x288 with 1 Axes>"
      ]
     },
     "metadata": {
      "needs_background": "light"
     },
     "output_type": "display_data"
    }
   ],
   "source": [
    "ax = df['trashcan/area'].sort_values(ascending=False).head(10).plot(kind='bar', colors=['slateblue'])\n",
    "ax.set_title(\"면적대비 쓰레기통 개수 상위10구\")"
   ]
  },
  {
   "cell_type": "code",
   "execution_count": 13,
   "metadata": {
    "scrolled": true
   },
   "outputs": [
    {
     "data": {
      "text/html": [
       "<div>\n",
       "<style scoped>\n",
       "    .dataframe tbody tr th:only-of-type {\n",
       "        vertical-align: middle;\n",
       "    }\n",
       "\n",
       "    .dataframe tbody tr th {\n",
       "        vertical-align: top;\n",
       "    }\n",
       "\n",
       "    .dataframe thead th {\n",
       "        text-align: right;\n",
       "    }\n",
       "</style>\n",
       "<table border=\"1\" class=\"dataframe\">\n",
       "  <thead>\n",
       "    <tr style=\"text-align: right;\">\n",
       "      <th></th>\n",
       "      <th>area(km2)</th>\n",
       "      <th>trashcan</th>\n",
       "      <th>trashcan/area</th>\n",
       "    </tr>\n",
       "  </thead>\n",
       "  <tbody>\n",
       "    <tr>\n",
       "      <td>노원구</td>\n",
       "      <td>35.42</td>\n",
       "      <td>54</td>\n",
       "      <td>1.524562</td>\n",
       "    </tr>\n",
       "    <tr>\n",
       "      <td>중랑구</td>\n",
       "      <td>18.50</td>\n",
       "      <td>61</td>\n",
       "      <td>3.297297</td>\n",
       "    </tr>\n",
       "    <tr>\n",
       "      <td>서초구</td>\n",
       "      <td>47.03</td>\n",
       "      <td>250</td>\n",
       "      <td>5.315756</td>\n",
       "    </tr>\n",
       "    <tr>\n",
       "      <td>관악구</td>\n",
       "      <td>29.57</td>\n",
       "      <td>175</td>\n",
       "      <td>5.918160</td>\n",
       "    </tr>\n",
       "    <tr>\n",
       "      <td>양천구</td>\n",
       "      <td>17.40</td>\n",
       "      <td>106</td>\n",
       "      <td>6.091954</td>\n",
       "    </tr>\n",
       "  </tbody>\n",
       "</table>\n",
       "</div>"
      ],
      "text/plain": [
       "     area(km2)  trashcan  trashcan/area\n",
       "노원구      35.42        54       1.524562\n",
       "중랑구      18.50        61       3.297297\n",
       "서초구      47.03       250       5.315756\n",
       "관악구      29.57       175       5.918160\n",
       "양천구      17.40       106       6.091954"
      ]
     },
     "execution_count": 13,
     "metadata": {},
     "output_type": "execute_result"
    }
   ],
   "source": [
    "#면적대비 쓰레기통 개수 하위 5구\n",
    "df.sort_values(by='trashcan/area').head()"
   ]
  },
  {
   "cell_type": "code",
   "execution_count": 17,
   "metadata": {},
   "outputs": [
    {
     "data": {
      "text/plain": [
       "Text(0.5, 1.0, '면적대비 쓰레기통 개수 하위10구')"
      ]
     },
     "execution_count": 17,
     "metadata": {},
     "output_type": "execute_result"
    },
    {
     "data": {
      "image/png": "[encoded data removed]",
      "text/plain": [
       "<Figure size 432x288 with 1 Axes>"
      ]
     },
     "metadata": {
      "needs_background": "light"
     },
     "output_type": "display_data"
    }
   ],
   "source": [
    "ax = df['trashcan/area'].sort_values(ascending=True).head(10).plot(kind='bar', colors=['slateblue'])\n",
    "ax.set_title(\"면적대비 쓰레기통 개수 하위10구\")"
   ]
  },
  {
   "cell_type": "code",
   "execution_count": 11,
   "metadata": {},
   "outputs": [
    {
     "name": "stdout",
     "output_type": "stream",
     "text": [
      "버전:  3.2.1\n",
      "설치 위치:  C:\\ProgramData\\Anaconda3\\lib\\site-packages\\matplotlib\\__init__.py\n",
      "설정 위치:  C:\\Users\\user\\.matplotlib\n",
      "캐시 위치:  C:\\Users\\user\\.matplotlib\n",
      "설정파일 위치:  C:\\ProgramData\\Anaconda3\\lib\\site-packages\\matplotlib\\mpl-data\\matplotlibrc\n",
      "510\n",
      "# 설정 되어있는 폰트 사이즈\n",
      "10.0\n",
      "# 설정 되어있는 폰트 글꼴\n",
      "['sans-serif']\n",
      "serif 세리프가 있는 폰트--------\n",
      "['DejaVu Serif', 'Bitstream Vera Serif', 'Computer Modern Roman', 'New Century Schoolbook', 'Century Schoolbook L', 'Utopia', 'ITC Bookman', 'Bookman', 'Nimbus Roman No9 L', 'Times New Roman', 'Times', 'Palatino', 'Charter', 'serif']\n",
      "sans-serif 세리프가 없는 폰트 --------\n",
      "['DejaVu Sans', 'Bitstream Vera Sans', 'Computer Modern Sans Serif', 'Lucida Grande', 'Verdana', 'Geneva', 'Lucid', 'Arial', 'Helvetica', 'Avant Garde', 'sans-serif']\n",
      "monospace 고정폭 글꼴--------\n",
      "['DejaVu Sans Mono', 'Bitstream Vera Sans Mono', 'Computer Modern Typewriter', 'Andale Mono', 'Nimbus Mono L', 'Courier New', 'Courier', 'Fixed', 'Terminal', 'monospace']\n",
      "NanumGothic\n"
     ]
    }
   ],
   "source": [
    "# matplotlib 한글 폰트 깨지는 현상\n",
    "\n",
    "%matplotlib inline\n",
    "import matplotlib as mpl\n",
    "import matplotlib.pyplot as plt\n",
    "import matplotlib.font_manager as fm\n",
    "mpl.rcParams['axes.unicode_minus'] = False\n",
    "\n",
    "print ('버전: ', mpl.__version__)\n",
    "print ('설치 위치: ', mpl.__file__)\n",
    "print ('설정 위치: ', mpl.get_configdir())\n",
    "print ('캐시 위치: ', mpl.get_cachedir())\n",
    "\n",
    "print ('설정파일 위치: ', mpl.matplotlib_fname())\n",
    "font_list = fm.findSystemFonts(fontpaths=None, fontext='ttf')\n",
    "\n",
    "#ttf 폰트 전체갯수\n",
    "print(len(font_list)) \n",
    "f = [f.name for f in fm.fontManager.ttflist]\n",
    "[(f.name, f.fname) for f in fm.fontManager.ttflist if 'Nanum' in f.name]\n",
    "\n",
    "print('# 설정 되어있는 폰트 사이즈')\n",
    "print (plt.rcParams['font.size'] ) \n",
    "print('# 설정 되어있는 폰트 글꼴')\n",
    "print (plt.rcParams['font.family'] )\n",
    "\n",
    "print('serif 세리프가 있는 폰트--------')\n",
    "print (plt.rcParams['font.serif']) \n",
    "print('sans-serif 세리프가 없는 폰트 --------')\n",
    "print (plt.rcParams['font.sans-serif']) \n",
    "print('monospace 고정폭 글꼴--------')\n",
    "print (plt.rcParams['font.monospace']) \n",
    "\n",
    "path = 'C:/Users/user/AppData/Local/Microsoft/Windows/Fonts/NanumGothic.ttf'\n",
    "font_name = fm.FontProperties(fname=path, size=50).get_name()\n",
    "print(font_name)\n",
    "plt.rc('font', family=font_name)"
   ]
  }
 ],
 "metadata": {
  "kernelspec": {
   "display_name": "Python 3",
   "language": "python",
   "name": "python3"
  },
  "language_info": {
   "codemirror_mode": {
    "name": "ipython",
    "version": 3
   },
   "file_extension": ".py",
   "mimetype": "text/x-python",
   "name": "python",
   "nbconvert_exporter": "python",
   "pygments_lexer": "ipython3",
   "version": "3.7.4"
  }
 },
 "nbformat": 4,
 "nbformat_minor": 2
}
