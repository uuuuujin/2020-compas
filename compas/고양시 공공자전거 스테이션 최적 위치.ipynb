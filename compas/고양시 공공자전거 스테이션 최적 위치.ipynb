{
 "cells": [
  {
   "cell_type": "code",
   "execution_count": 2,
   "metadata": {},
   "outputs": [],
   "source": [
    "import tensorflow as tf"
   ]
  },
  {
   "cell_type": "code",
   "execution_count": 20,
   "metadata": {},
   "outputs": [],
   "source": [
    "import pathlib\n",
    "import numpy as np\n",
    "import pandas as pd\n",
    "import geopandas as gpd\n",
    "import folium\n",
    "from tqdm.notebook import tqdm\n",
    "import warnings\n",
    "warnings.filterwarnings(action='ignore')"
   ]
  },
  {
   "cell_type": "code",
   "execution_count": 4,
   "metadata": {},
   "outputs": [],
   "source": [
    "from functools import reduce\n",
    "from collections import defaultdict\n",
    "\n",
    "import pandas as pd\n",
    "import geopandas as gpd\n",
    "import folium\n",
    "import shapely\n",
    "import numpy as np\n",
    "from IPython.display import display\n",
    "import matplotlib.pyplot as plt\n",
    "import xgboost\n",
    "import sklearn.cluster"
   ]
  },
  {
   "cell_type": "code",
   "execution_count": 6,
   "metadata": {},
   "outputs": [],
   "source": [
    "input_path = 'E:\\yujin\\INHA\\SBJ_2007_001'\n",
    "p = pathlib.Path(input_path)"
   ]
  },
  {
   "cell_type": "code",
   "execution_count": 7,
   "metadata": {
    "scrolled": true
   },
   "outputs": [
    {
     "data": {
      "text/html": [
       "<div>\n",
       "<style scoped>\n",
       "    .dataframe tbody tr th:only-of-type {\n",
       "        vertical-align: middle;\n",
       "    }\n",
       "\n",
       "    .dataframe tbody tr th {\n",
       "        vertical-align: top;\n",
       "    }\n",
       "\n",
       "    .dataframe thead th {\n",
       "        text-align: right;\n",
       "    }\n",
       "</style>\n",
       "<table border=\"1\" class=\"dataframe\">\n",
       "  <thead>\n",
       "    <tr style=\"text-align: right;\">\n",
       "      <th></th>\n",
       "      <th>Station_ID</th>\n",
       "      <th>STATION_NAME</th>\n",
       "      <th>거치대 수량</th>\n",
       "      <th>위도</th>\n",
       "      <th>경도</th>\n",
       "    </tr>\n",
       "  </thead>\n",
       "  <tbody>\n",
       "    <tr>\n",
       "      <th>0</th>\n",
       "      <td>101</td>\n",
       "      <td>어울림마을 701동 앞</td>\n",
       "      <td>20</td>\n",
       "      <td>37.654775</td>\n",
       "      <td>126.834584</td>\n",
       "    </tr>\n",
       "    <tr>\n",
       "      <th>1</th>\n",
       "      <td>103</td>\n",
       "      <td>대림e-편한세상106동</td>\n",
       "      <td>20</td>\n",
       "      <td>37.660442</td>\n",
       "      <td>126.840377</td>\n",
       "    </tr>\n",
       "    <tr>\n",
       "      <th>2</th>\n",
       "      <td>104</td>\n",
       "      <td>탄현마을8단지</td>\n",
       "      <td>25</td>\n",
       "      <td>37.698523</td>\n",
       "      <td>126.766042</td>\n",
       "    </tr>\n",
       "    <tr>\n",
       "      <th>3</th>\n",
       "      <td>105</td>\n",
       "      <td>KT 덕양지사 앞</td>\n",
       "      <td>20</td>\n",
       "      <td>37.655244</td>\n",
       "      <td>126.839261</td>\n",
       "    </tr>\n",
       "    <tr>\n",
       "      <th>4</th>\n",
       "      <td>106</td>\n",
       "      <td>원당역 앞 공영주차장</td>\n",
       "      <td>30</td>\n",
       "      <td>37.653410</td>\n",
       "      <td>126.842530</td>\n",
       "    </tr>\n",
       "    <tr>\n",
       "      <th>...</th>\n",
       "      <td>...</td>\n",
       "      <td>...</td>\n",
       "      <td>...</td>\n",
       "      <td>...</td>\n",
       "      <td>...</td>\n",
       "    </tr>\n",
       "    <tr>\n",
       "      <th>159</th>\n",
       "      <td>350</td>\n",
       "      <td>★하이파크5단지 502동앞 버스정류장</td>\n",
       "      <td>20</td>\n",
       "      <td>37.697867</td>\n",
       "      <td>126.753089</td>\n",
       "    </tr>\n",
       "    <tr>\n",
       "      <th>160</th>\n",
       "      <td>351</td>\n",
       "      <td>◆일산에듀포레 푸르지오</td>\n",
       "      <td>40</td>\n",
       "      <td>37.702259</td>\n",
       "      <td>126.767231</td>\n",
       "    </tr>\n",
       "    <tr>\n",
       "      <th>161</th>\n",
       "      <td>352</td>\n",
       "      <td>◆꿈에그린203동앞</td>\n",
       "      <td>40</td>\n",
       "      <td>37.666425</td>\n",
       "      <td>126.749244</td>\n",
       "    </tr>\n",
       "    <tr>\n",
       "      <th>162</th>\n",
       "      <td>353</td>\n",
       "      <td>◆꿈에그린106동앞</td>\n",
       "      <td>40</td>\n",
       "      <td>37.666720</td>\n",
       "      <td>126.750784</td>\n",
       "    </tr>\n",
       "    <tr>\n",
       "      <th>163</th>\n",
       "      <td>992</td>\n",
       "      <td>★피프틴센터</td>\n",
       "      <td>4</td>\n",
       "      <td>37.637529</td>\n",
       "      <td>126.833760</td>\n",
       "    </tr>\n",
       "  </tbody>\n",
       "</table>\n",
       "<p>164 rows × 5 columns</p>\n",
       "</div>"
      ],
      "text/plain": [
       "     Station_ID          STATION_NAME  거치대 수량         위도          경도\n",
       "0           101          어울림마을 701동 앞      20  37.654775  126.834584\n",
       "1           103          대림e-편한세상106동      20  37.660442  126.840377\n",
       "2           104               탄현마을8단지      25  37.698523  126.766042\n",
       "3           105             KT 덕양지사 앞      20  37.655244  126.839261\n",
       "4           106           원당역 앞 공영주차장      30  37.653410  126.842530\n",
       "..          ...                   ...     ...        ...         ...\n",
       "159         350  ★하이파크5단지 502동앞 버스정류장      20  37.697867  126.753089\n",
       "160         351          ◆일산에듀포레 푸르지오      40  37.702259  126.767231\n",
       "161         352            ◆꿈에그린203동앞      40  37.666425  126.749244\n",
       "162         353            ◆꿈에그린106동앞      40  37.666720  126.750784\n",
       "163         992                ★피프틴센터       4  37.637529  126.833760\n",
       "\n",
       "[164 rows x 5 columns]"
      ]
     },
     "execution_count": 7,
     "metadata": {},
     "output_type": "execute_result"
    }
   ],
   "source": [
    "자전거스테이션 = pd.read_csv(p.joinpath('02.자전거스테이션.csv'))\n",
    "자전거스테이션"
   ]
  },
  {
   "cell_type": "code",
   "execution_count": 8,
   "metadata": {
    "scrolled": true
   },
   "outputs": [
    {
     "data": {
      "text/html": [
       "<div>\n",
       "<style scoped>\n",
       "    .dataframe tbody tr th:only-of-type {\n",
       "        vertical-align: middle;\n",
       "    }\n",
       "\n",
       "    .dataframe tbody tr th {\n",
       "        vertical-align: top;\n",
       "    }\n",
       "\n",
       "    .dataframe thead th {\n",
       "        text-align: right;\n",
       "    }\n",
       "</style>\n",
       "<table border=\"1\" class=\"dataframe\">\n",
       "  <thead>\n",
       "    <tr style=\"text-align: right;\">\n",
       "      <th></th>\n",
       "      <th>Station_ID</th>\n",
       "      <th>STATION_NAME</th>\n",
       "      <th>거치대 수량</th>\n",
       "      <th>위도</th>\n",
       "      <th>경도</th>\n",
       "    </tr>\n",
       "  </thead>\n",
       "  <tbody>\n",
       "    <tr>\n",
       "      <th>count</th>\n",
       "      <td>164.000000</td>\n",
       "      <td>164</td>\n",
       "      <td>164.000000</td>\n",
       "      <td>164.000000</td>\n",
       "      <td>164.000000</td>\n",
       "    </tr>\n",
       "    <tr>\n",
       "      <th>unique</th>\n",
       "      <td>NaN</td>\n",
       "      <td>164</td>\n",
       "      <td>NaN</td>\n",
       "      <td>NaN</td>\n",
       "      <td>NaN</td>\n",
       "    </tr>\n",
       "    <tr>\n",
       "      <th>top</th>\n",
       "      <td>NaN</td>\n",
       "      <td>달빛마을3단지 상가 앞</td>\n",
       "      <td>NaN</td>\n",
       "      <td>NaN</td>\n",
       "      <td>NaN</td>\n",
       "    </tr>\n",
       "    <tr>\n",
       "      <th>freq</th>\n",
       "      <td>NaN</td>\n",
       "      <td>1</td>\n",
       "      <td>NaN</td>\n",
       "      <td>NaN</td>\n",
       "      <td>NaN</td>\n",
       "    </tr>\n",
       "    <tr>\n",
       "      <th>mean</th>\n",
       "      <td>231.987805</td>\n",
       "      <td>NaN</td>\n",
       "      <td>26.189024</td>\n",
       "      <td>37.658544</td>\n",
       "      <td>126.799452</td>\n",
       "    </tr>\n",
       "    <tr>\n",
       "      <th>std</th>\n",
       "      <td>96.579919</td>\n",
       "      <td>NaN</td>\n",
       "      <td>7.087161</td>\n",
       "      <td>0.024517</td>\n",
       "      <td>0.043810</td>\n",
       "    </tr>\n",
       "    <tr>\n",
       "      <th>min</th>\n",
       "      <td>101.000000</td>\n",
       "      <td>NaN</td>\n",
       "      <td>4.000000</td>\n",
       "      <td>37.591856</td>\n",
       "      <td>126.717535</td>\n",
       "    </tr>\n",
       "    <tr>\n",
       "      <th>25%</th>\n",
       "      <td>161.750000</td>\n",
       "      <td>NaN</td>\n",
       "      <td>20.000000</td>\n",
       "      <td>37.643943</td>\n",
       "      <td>126.767998</td>\n",
       "    </tr>\n",
       "    <tr>\n",
       "      <th>50%</th>\n",
       "      <td>228.500000</td>\n",
       "      <td>NaN</td>\n",
       "      <td>25.000000</td>\n",
       "      <td>37.660869</td>\n",
       "      <td>126.785039</td>\n",
       "    </tr>\n",
       "    <tr>\n",
       "      <th>75%</th>\n",
       "      <td>306.250000</td>\n",
       "      <td>NaN</td>\n",
       "      <td>30.000000</td>\n",
       "      <td>37.675909</td>\n",
       "      <td>126.832985</td>\n",
       "    </tr>\n",
       "    <tr>\n",
       "      <th>max</th>\n",
       "      <td>992.000000</td>\n",
       "      <td>NaN</td>\n",
       "      <td>43.000000</td>\n",
       "      <td>37.703147</td>\n",
       "      <td>126.897768</td>\n",
       "    </tr>\n",
       "  </tbody>\n",
       "</table>\n",
       "</div>"
      ],
      "text/plain": [
       "        Station_ID  STATION_NAME      거치대 수량          위도          경도\n",
       "count   164.000000           164  164.000000  164.000000  164.000000\n",
       "unique         NaN           164         NaN         NaN         NaN\n",
       "top            NaN  달빛마을3단지 상가 앞         NaN         NaN         NaN\n",
       "freq           NaN             1         NaN         NaN         NaN\n",
       "mean    231.987805           NaN   26.189024   37.658544  126.799452\n",
       "std      96.579919           NaN    7.087161    0.024517    0.043810\n",
       "min     101.000000           NaN    4.000000   37.591856  126.717535\n",
       "25%     161.750000           NaN   20.000000   37.643943  126.767998\n",
       "50%     228.500000           NaN   25.000000   37.660869  126.785039\n",
       "75%     306.250000           NaN   30.000000   37.675909  126.832985\n",
       "max     992.000000           NaN   43.000000   37.703147  126.897768"
      ]
     },
     "execution_count": 8,
     "metadata": {},
     "output_type": "execute_result"
    }
   ],
   "source": [
    "자전거스테이션.describe(include='all')"
   ]
  },
  {
   "cell_type": "code",
   "execution_count": 9,
   "metadata": {
    "scrolled": true
   },
   "outputs": [
    {
     "data": {
      "text/html": [
       "<div>\n",
       "<style scoped>\n",
       "    .dataframe tbody tr th:only-of-type {\n",
       "        vertical-align: middle;\n",
       "    }\n",
       "\n",
       "    .dataframe tbody tr th {\n",
       "        vertical-align: top;\n",
       "    }\n",
       "\n",
       "    .dataframe thead th {\n",
       "        text-align: right;\n",
       "    }\n",
       "</style>\n",
       "<table border=\"1\" class=\"dataframe\">\n",
       "  <thead>\n",
       "    <tr style=\"text-align: right;\">\n",
       "      <th></th>\n",
       "      <th>Station_ID</th>\n",
       "      <th>STATION_NAME</th>\n",
       "      <th>거치대 수량</th>\n",
       "      <th>위도</th>\n",
       "      <th>경도</th>\n",
       "    </tr>\n",
       "  </thead>\n",
       "  <tbody>\n",
       "    <tr>\n",
       "      <th>count</th>\n",
       "      <td>164</td>\n",
       "      <td>164</td>\n",
       "      <td>164.000000</td>\n",
       "      <td>164.000000</td>\n",
       "      <td>164.000000</td>\n",
       "    </tr>\n",
       "    <tr>\n",
       "      <th>unique</th>\n",
       "      <td>164</td>\n",
       "      <td>164</td>\n",
       "      <td>NaN</td>\n",
       "      <td>NaN</td>\n",
       "      <td>NaN</td>\n",
       "    </tr>\n",
       "    <tr>\n",
       "      <th>top</th>\n",
       "      <td>302</td>\n",
       "      <td>달빛마을3단지 상가 앞</td>\n",
       "      <td>NaN</td>\n",
       "      <td>NaN</td>\n",
       "      <td>NaN</td>\n",
       "    </tr>\n",
       "    <tr>\n",
       "      <th>freq</th>\n",
       "      <td>1</td>\n",
       "      <td>1</td>\n",
       "      <td>NaN</td>\n",
       "      <td>NaN</td>\n",
       "      <td>NaN</td>\n",
       "    </tr>\n",
       "    <tr>\n",
       "      <th>mean</th>\n",
       "      <td>NaN</td>\n",
       "      <td>NaN</td>\n",
       "      <td>26.189024</td>\n",
       "      <td>37.658544</td>\n",
       "      <td>126.799452</td>\n",
       "    </tr>\n",
       "    <tr>\n",
       "      <th>std</th>\n",
       "      <td>NaN</td>\n",
       "      <td>NaN</td>\n",
       "      <td>7.087161</td>\n",
       "      <td>0.024517</td>\n",
       "      <td>0.043810</td>\n",
       "    </tr>\n",
       "    <tr>\n",
       "      <th>min</th>\n",
       "      <td>NaN</td>\n",
       "      <td>NaN</td>\n",
       "      <td>4.000000</td>\n",
       "      <td>37.591856</td>\n",
       "      <td>126.717535</td>\n",
       "    </tr>\n",
       "    <tr>\n",
       "      <th>25%</th>\n",
       "      <td>NaN</td>\n",
       "      <td>NaN</td>\n",
       "      <td>20.000000</td>\n",
       "      <td>37.643943</td>\n",
       "      <td>126.767998</td>\n",
       "    </tr>\n",
       "    <tr>\n",
       "      <th>50%</th>\n",
       "      <td>NaN</td>\n",
       "      <td>NaN</td>\n",
       "      <td>25.000000</td>\n",
       "      <td>37.660869</td>\n",
       "      <td>126.785039</td>\n",
       "    </tr>\n",
       "    <tr>\n",
       "      <th>75%</th>\n",
       "      <td>NaN</td>\n",
       "      <td>NaN</td>\n",
       "      <td>30.000000</td>\n",
       "      <td>37.675909</td>\n",
       "      <td>126.832985</td>\n",
       "    </tr>\n",
       "    <tr>\n",
       "      <th>max</th>\n",
       "      <td>NaN</td>\n",
       "      <td>NaN</td>\n",
       "      <td>43.000000</td>\n",
       "      <td>37.703147</td>\n",
       "      <td>126.897768</td>\n",
       "    </tr>\n",
       "  </tbody>\n",
       "</table>\n",
       "</div>"
      ],
      "text/plain": [
       "       Station_ID  STATION_NAME      거치대 수량          위도          경도\n",
       "count         164           164  164.000000  164.000000  164.000000\n",
       "unique        164           164         NaN         NaN         NaN\n",
       "top           302  달빛마을3단지 상가 앞         NaN         NaN         NaN\n",
       "freq            1             1         NaN         NaN         NaN\n",
       "mean          NaN           NaN   26.189024   37.658544  126.799452\n",
       "std           NaN           NaN    7.087161    0.024517    0.043810\n",
       "min           NaN           NaN    4.000000   37.591856  126.717535\n",
       "25%           NaN           NaN   20.000000   37.643943  126.767998\n",
       "50%           NaN           NaN   25.000000   37.660869  126.785039\n",
       "75%           NaN           NaN   30.000000   37.675909  126.832985\n",
       "max           NaN           NaN   43.000000   37.703147  126.897768"
      ]
     },
     "execution_count": 9,
     "metadata": {},
     "output_type": "execute_result"
    }
   ],
   "source": [
    "for column in ['Station_ID']:\n",
    "    자전거스테이션[column] = 자전거스테이션[column].apply(str)\n",
    "    \n",
    "자전거스테이션.describe(include='all')"
   ]
  },
  {
   "cell_type": "code",
   "execution_count": 10,
   "metadata": {
    "scrolled": true
   },
   "outputs": [
    {
     "data": {
      "text/html": [
       "<div>\n",
       "<style scoped>\n",
       "    .dataframe tbody tr th:only-of-type {\n",
       "        vertical-align: middle;\n",
       "    }\n",
       "\n",
       "    .dataframe tbody tr th {\n",
       "        vertical-align: top;\n",
       "    }\n",
       "\n",
       "    .dataframe thead th {\n",
       "        text-align: right;\n",
       "    }\n",
       "</style>\n",
       "<table border=\"1\" class=\"dataframe\">\n",
       "  <thead>\n",
       "    <tr style=\"text-align: right;\">\n",
       "      <th></th>\n",
       "      <th>gid</th>\n",
       "      <th>val</th>\n",
       "      <th>geometry</th>\n",
       "    </tr>\n",
       "  </thead>\n",
       "  <tbody>\n",
       "    <tr>\n",
       "      <th>0</th>\n",
       "      <td>다사268650</td>\n",
       "      <td>NaN</td>\n",
       "      <td>MULTIPOLYGON (((126.66985 37.68162, 126.66984 ...</td>\n",
       "    </tr>\n",
       "    <tr>\n",
       "      <th>1</th>\n",
       "      <td>다사268651</td>\n",
       "      <td>NaN</td>\n",
       "      <td>MULTIPOLYGON (((126.66984 37.68252, 126.66983 ...</td>\n",
       "    </tr>\n",
       "    <tr>\n",
       "      <th>2</th>\n",
       "      <td>다사268652</td>\n",
       "      <td>NaN</td>\n",
       "      <td>MULTIPOLYGON (((126.66983 37.68342, 126.66982 ...</td>\n",
       "    </tr>\n",
       "    <tr>\n",
       "      <th>3</th>\n",
       "      <td>다사268653</td>\n",
       "      <td>NaN</td>\n",
       "      <td>MULTIPOLYGON (((126.66982 37.68432, 126.66981 ...</td>\n",
       "    </tr>\n",
       "    <tr>\n",
       "      <th>4</th>\n",
       "      <td>다사268654</td>\n",
       "      <td>NaN</td>\n",
       "      <td>MULTIPOLYGON (((126.66981 37.68522, 126.66980 ...</td>\n",
       "    </tr>\n",
       "    <tr>\n",
       "      <th>...</th>\n",
       "      <td>...</td>\n",
       "      <td>...</td>\n",
       "      <td>...</td>\n",
       "    </tr>\n",
       "    <tr>\n",
       "      <th>27345</th>\n",
       "      <td>다사553641</td>\n",
       "      <td>NaN</td>\n",
       "      <td>MULTIPOLYGON (((126.99310 37.67534, 126.99310 ...</td>\n",
       "    </tr>\n",
       "    <tr>\n",
       "      <th>27346</th>\n",
       "      <td>다사553642</td>\n",
       "      <td>NaN</td>\n",
       "      <td>MULTIPOLYGON (((126.99310 37.67624, 126.99309 ...</td>\n",
       "    </tr>\n",
       "    <tr>\n",
       "      <th>27347</th>\n",
       "      <td>다사553643</td>\n",
       "      <td>NaN</td>\n",
       "      <td>MULTIPOLYGON (((126.99309 37.67714, 126.99308 ...</td>\n",
       "    </tr>\n",
       "    <tr>\n",
       "      <th>27348</th>\n",
       "      <td>다사553644</td>\n",
       "      <td>NaN</td>\n",
       "      <td>MULTIPOLYGON (((126.99308 37.67804, 126.99308 ...</td>\n",
       "    </tr>\n",
       "    <tr>\n",
       "      <th>27349</th>\n",
       "      <td>다사554634</td>\n",
       "      <td>NaN</td>\n",
       "      <td>MULTIPOLYGON (((126.99428 37.66903, 126.99427 ...</td>\n",
       "    </tr>\n",
       "  </tbody>\n",
       "</table>\n",
       "<p>27350 rows × 3 columns</p>\n",
       "</div>"
      ],
      "text/plain": [
       "            gid  val                                           geometry\n",
       "0      다사268650  NaN  MULTIPOLYGON (((126.66985 37.68162, 126.66984 ...\n",
       "1      다사268651  NaN  MULTIPOLYGON (((126.66984 37.68252, 126.66983 ...\n",
       "2      다사268652  NaN  MULTIPOLYGON (((126.66983 37.68342, 126.66982 ...\n",
       "3      다사268653  NaN  MULTIPOLYGON (((126.66982 37.68432, 126.66981 ...\n",
       "4      다사268654  NaN  MULTIPOLYGON (((126.66981 37.68522, 126.66980 ...\n",
       "...         ...  ...                                                ...\n",
       "27345  다사553641  NaN  MULTIPOLYGON (((126.99310 37.67534, 126.99310 ...\n",
       "27346  다사553642  NaN  MULTIPOLYGON (((126.99310 37.67624, 126.99309 ...\n",
       "27347  다사553643  NaN  MULTIPOLYGON (((126.99309 37.67714, 126.99308 ...\n",
       "27348  다사553644  NaN  MULTIPOLYGON (((126.99308 37.67804, 126.99308 ...\n",
       "27349  다사554634  NaN  MULTIPOLYGON (((126.99428 37.66903, 126.99427 ...\n",
       "\n",
       "[27350 rows x 3 columns]"
      ]
     },
     "execution_count": 10,
     "metadata": {},
     "output_type": "execute_result"
    }
   ],
   "source": [
    "인구분포도 = gpd.read_file(p.joinpath('06.인구(거주)분포도(100M_X_100M).geojson'))\n",
    "인구분포도"
   ]
  },
  {
   "cell_type": "code",
   "execution_count": 11,
   "metadata": {
    "scrolled": true
   },
   "outputs": [
    {
     "data": {
      "text/html": [
       "<div>\n",
       "<style scoped>\n",
       "    .dataframe tbody tr th:only-of-type {\n",
       "        vertical-align: middle;\n",
       "    }\n",
       "\n",
       "    .dataframe tbody tr th {\n",
       "        vertical-align: top;\n",
       "    }\n",
       "\n",
       "    .dataframe thead th {\n",
       "        text-align: right;\n",
       "    }\n",
       "</style>\n",
       "<table border=\"1\" class=\"dataframe\">\n",
       "  <thead>\n",
       "    <tr style=\"text-align: right;\">\n",
       "      <th></th>\n",
       "      <th>gid</th>\n",
       "      <th>val</th>\n",
       "    </tr>\n",
       "  </thead>\n",
       "  <tbody>\n",
       "    <tr>\n",
       "      <th>count</th>\n",
       "      <td>27350</td>\n",
       "      <td>9241.000000</td>\n",
       "    </tr>\n",
       "    <tr>\n",
       "      <th>unique</th>\n",
       "      <td>27350</td>\n",
       "      <td>NaN</td>\n",
       "    </tr>\n",
       "    <tr>\n",
       "      <th>top</th>\n",
       "      <td>다사465556</td>\n",
       "      <td>NaN</td>\n",
       "    </tr>\n",
       "    <tr>\n",
       "      <th>freq</th>\n",
       "      <td>1</td>\n",
       "      <td>NaN</td>\n",
       "    </tr>\n",
       "    <tr>\n",
       "      <th>mean</th>\n",
       "      <td>NaN</td>\n",
       "      <td>114.496483</td>\n",
       "    </tr>\n",
       "    <tr>\n",
       "      <th>std</th>\n",
       "      <td>NaN</td>\n",
       "      <td>208.173625</td>\n",
       "    </tr>\n",
       "    <tr>\n",
       "      <th>min</th>\n",
       "      <td>NaN</td>\n",
       "      <td>0.000000</td>\n",
       "    </tr>\n",
       "    <tr>\n",
       "      <th>25%</th>\n",
       "      <td>NaN</td>\n",
       "      <td>0.000000</td>\n",
       "    </tr>\n",
       "    <tr>\n",
       "      <th>50%</th>\n",
       "      <td>NaN</td>\n",
       "      <td>10.000000</td>\n",
       "    </tr>\n",
       "    <tr>\n",
       "      <th>75%</th>\n",
       "      <td>NaN</td>\n",
       "      <td>144.000000</td>\n",
       "    </tr>\n",
       "    <tr>\n",
       "      <th>max</th>\n",
       "      <td>NaN</td>\n",
       "      <td>3027.000000</td>\n",
       "    </tr>\n",
       "  </tbody>\n",
       "</table>\n",
       "</div>"
      ],
      "text/plain": [
       "             gid          val\n",
       "count      27350  9241.000000\n",
       "unique     27350          NaN\n",
       "top     다사465556          NaN\n",
       "freq           1          NaN\n",
       "mean         NaN   114.496483\n",
       "std          NaN   208.173625\n",
       "min          NaN     0.000000\n",
       "25%          NaN     0.000000\n",
       "50%          NaN    10.000000\n",
       "75%          NaN   144.000000\n",
       "max          NaN  3027.000000"
      ]
     },
     "execution_count": 11,
     "metadata": {},
     "output_type": "execute_result"
    }
   ],
   "source": [
    "인구분포도.drop('geometry', axis=1).describe(include='all')"
   ]
  },
  {
   "cell_type": "code",
   "execution_count": 12,
   "metadata": {
    "scrolled": true
   },
   "outputs": [
    {
     "data": {
      "text/html": [
       "<div>\n",
       "<style scoped>\n",
       "    .dataframe tbody tr th:only-of-type {\n",
       "        vertical-align: middle;\n",
       "    }\n",
       "\n",
       "    .dataframe tbody tr th {\n",
       "        vertical-align: top;\n",
       "    }\n",
       "\n",
       "    .dataframe thead th {\n",
       "        text-align: right;\n",
       "    }\n",
       "</style>\n",
       "<table border=\"1\" class=\"dataframe\">\n",
       "  <thead>\n",
       "    <tr style=\"text-align: right;\">\n",
       "      <th></th>\n",
       "      <th>gid</th>\n",
       "      <th>val</th>\n",
       "      <th>geometry</th>\n",
       "    </tr>\n",
       "  </thead>\n",
       "  <tbody>\n",
       "    <tr>\n",
       "      <th>0</th>\n",
       "      <td>다사268650</td>\n",
       "      <td>0.0</td>\n",
       "      <td>MULTIPOLYGON (((126.66985 37.68162, 126.66984 ...</td>\n",
       "    </tr>\n",
       "    <tr>\n",
       "      <th>1</th>\n",
       "      <td>다사268651</td>\n",
       "      <td>0.0</td>\n",
       "      <td>MULTIPOLYGON (((126.66984 37.68252, 126.66983 ...</td>\n",
       "    </tr>\n",
       "    <tr>\n",
       "      <th>2</th>\n",
       "      <td>다사268652</td>\n",
       "      <td>0.0</td>\n",
       "      <td>MULTIPOLYGON (((126.66983 37.68342, 126.66982 ...</td>\n",
       "    </tr>\n",
       "    <tr>\n",
       "      <th>3</th>\n",
       "      <td>다사268653</td>\n",
       "      <td>0.0</td>\n",
       "      <td>MULTIPOLYGON (((126.66982 37.68432, 126.66981 ...</td>\n",
       "    </tr>\n",
       "    <tr>\n",
       "      <th>4</th>\n",
       "      <td>다사268654</td>\n",
       "      <td>0.0</td>\n",
       "      <td>MULTIPOLYGON (((126.66981 37.68522, 126.66980 ...</td>\n",
       "    </tr>\n",
       "    <tr>\n",
       "      <th>...</th>\n",
       "      <td>...</td>\n",
       "      <td>...</td>\n",
       "      <td>...</td>\n",
       "    </tr>\n",
       "    <tr>\n",
       "      <th>27345</th>\n",
       "      <td>다사553641</td>\n",
       "      <td>0.0</td>\n",
       "      <td>MULTIPOLYGON (((126.99310 37.67534, 126.99310 ...</td>\n",
       "    </tr>\n",
       "    <tr>\n",
       "      <th>27346</th>\n",
       "      <td>다사553642</td>\n",
       "      <td>0.0</td>\n",
       "      <td>MULTIPOLYGON (((126.99310 37.67624, 126.99309 ...</td>\n",
       "    </tr>\n",
       "    <tr>\n",
       "      <th>27347</th>\n",
       "      <td>다사553643</td>\n",
       "      <td>0.0</td>\n",
       "      <td>MULTIPOLYGON (((126.99309 37.67714, 126.99308 ...</td>\n",
       "    </tr>\n",
       "    <tr>\n",
       "      <th>27348</th>\n",
       "      <td>다사553644</td>\n",
       "      <td>0.0</td>\n",
       "      <td>MULTIPOLYGON (((126.99308 37.67804, 126.99308 ...</td>\n",
       "    </tr>\n",
       "    <tr>\n",
       "      <th>27349</th>\n",
       "      <td>다사554634</td>\n",
       "      <td>0.0</td>\n",
       "      <td>MULTIPOLYGON (((126.99428 37.66903, 126.99427 ...</td>\n",
       "    </tr>\n",
       "  </tbody>\n",
       "</table>\n",
       "<p>27350 rows × 3 columns</p>\n",
       "</div>"
      ],
      "text/plain": [
       "            gid  val                                           geometry\n",
       "0      다사268650  0.0  MULTIPOLYGON (((126.66985 37.68162, 126.66984 ...\n",
       "1      다사268651  0.0  MULTIPOLYGON (((126.66984 37.68252, 126.66983 ...\n",
       "2      다사268652  0.0  MULTIPOLYGON (((126.66983 37.68342, 126.66982 ...\n",
       "3      다사268653  0.0  MULTIPOLYGON (((126.66982 37.68432, 126.66981 ...\n",
       "4      다사268654  0.0  MULTIPOLYGON (((126.66981 37.68522, 126.66980 ...\n",
       "...         ...  ...                                                ...\n",
       "27345  다사553641  0.0  MULTIPOLYGON (((126.99310 37.67534, 126.99310 ...\n",
       "27346  다사553642  0.0  MULTIPOLYGON (((126.99310 37.67624, 126.99309 ...\n",
       "27347  다사553643  0.0  MULTIPOLYGON (((126.99309 37.67714, 126.99308 ...\n",
       "27348  다사553644  0.0  MULTIPOLYGON (((126.99308 37.67804, 126.99308 ...\n",
       "27349  다사554634  0.0  MULTIPOLYGON (((126.99428 37.66903, 126.99427 ...\n",
       "\n",
       "[27350 rows x 3 columns]"
      ]
     },
     "execution_count": 12,
     "metadata": {},
     "output_type": "execute_result"
    }
   ],
   "source": [
    "인구분포도.loc[인구분포도['val'].apply(pd.isna), 'val'] = 0\n",
    "인구분포도"
   ]
  },
  {
   "cell_type": "code",
   "execution_count": 13,
   "metadata": {
    "scrolled": true
   },
   "outputs": [
    {
     "data": {
      "text/html": [
       "<div>\n",
       "<style scoped>\n",
       "    .dataframe tbody tr th:only-of-type {\n",
       "        vertical-align: middle;\n",
       "    }\n",
       "\n",
       "    .dataframe tbody tr th {\n",
       "        vertical-align: top;\n",
       "    }\n",
       "\n",
       "    .dataframe thead th {\n",
       "        text-align: right;\n",
       "    }\n",
       "</style>\n",
       "<table border=\"1\" class=\"dataframe\">\n",
       "  <thead>\n",
       "    <tr style=\"text-align: right;\">\n",
       "      <th></th>\n",
       "      <th>rail_nm</th>\n",
       "      <th>station_nm</th>\n",
       "      <th>lot_num_addr</th>\n",
       "      <th>road_nm_addr</th>\n",
       "      <th>X</th>\n",
       "      <th>Y</th>\n",
       "    </tr>\n",
       "  </thead>\n",
       "  <tbody>\n",
       "    <tr>\n",
       "      <th>0</th>\n",
       "      <td>3호선</td>\n",
       "      <td>대곡</td>\n",
       "      <td>경기도 고양시 덕양구 대장동 420-1</td>\n",
       "      <td>경기도 고양시 덕양구 대주로107번길 71-81</td>\n",
       "      <td>126.809614</td>\n",
       "      <td>37.632306</td>\n",
       "    </tr>\n",
       "    <tr>\n",
       "      <th>1</th>\n",
       "      <td>3호선</td>\n",
       "      <td>대화</td>\n",
       "      <td>경기도 고양시 일산서구 대화동 2221</td>\n",
       "      <td>경기도 고양시 일산서구 중앙로 지하 1569</td>\n",
       "      <td>126.747206</td>\n",
       "      <td>37.675846</td>\n",
       "    </tr>\n",
       "    <tr>\n",
       "      <th>2</th>\n",
       "      <td>경의중앙</td>\n",
       "      <td>일산</td>\n",
       "      <td>경기도 고양시 일산서구 일산동 655-691</td>\n",
       "      <td>경기도 고양시 일산서구 경의로 672</td>\n",
       "      <td>126.770067</td>\n",
       "      <td>37.682007</td>\n",
       "    </tr>\n",
       "    <tr>\n",
       "      <th>3</th>\n",
       "      <td>3호선</td>\n",
       "      <td>백석</td>\n",
       "      <td>경기도 고양시 일산동구 백석동 1538</td>\n",
       "      <td>경기도 고양시 일산동구 중앙로 지하 1042</td>\n",
       "      <td>126.788148</td>\n",
       "      <td>37.642953</td>\n",
       "    </tr>\n",
       "    <tr>\n",
       "      <th>4</th>\n",
       "      <td>경의중앙</td>\n",
       "      <td>대곡</td>\n",
       "      <td>경기도 고양시 덕양구 대장동 420-1</td>\n",
       "      <td>경기도 고양시 덕양구 대주로 107번길 71-81</td>\n",
       "      <td>126.811047</td>\n",
       "      <td>37.631615</td>\n",
       "    </tr>\n",
       "    <tr>\n",
       "      <th>5</th>\n",
       "      <td>경의중앙</td>\n",
       "      <td>강매</td>\n",
       "      <td>경기도 고양시 덕양구 행신동 1115-1</td>\n",
       "      <td>경기도 고양시 덕양구 소원로 202</td>\n",
       "      <td>126.844436</td>\n",
       "      <td>37.612290</td>\n",
       "    </tr>\n",
       "    <tr>\n",
       "      <th>6</th>\n",
       "      <td>경의중앙</td>\n",
       "      <td>백마</td>\n",
       "      <td>경기도 고양시 일산동구 백석동 92</td>\n",
       "      <td>경기도 고양시 일산동구 경의로 318</td>\n",
       "      <td>126.794067</td>\n",
       "      <td>37.658431</td>\n",
       "    </tr>\n",
       "    <tr>\n",
       "      <th>7</th>\n",
       "      <td>경의중앙</td>\n",
       "      <td>능곡</td>\n",
       "      <td>경기도 고양시 덕양구 토당동 454-3</td>\n",
       "      <td>경기도 고양시 덕양구 토당로 35</td>\n",
       "      <td>126.820838</td>\n",
       "      <td>37.618765</td>\n",
       "    </tr>\n",
       "    <tr>\n",
       "      <th>8</th>\n",
       "      <td>경의중앙</td>\n",
       "      <td>풍산</td>\n",
       "      <td>경기도 고양시 일산동구 풍동 1042</td>\n",
       "      <td>경기도 고양시 일산동구 경의로 486</td>\n",
       "      <td>126.786528</td>\n",
       "      <td>37.671815</td>\n",
       "    </tr>\n",
       "    <tr>\n",
       "      <th>9</th>\n",
       "      <td>경의중앙</td>\n",
       "      <td>행신</td>\n",
       "      <td>경기도 고양시 덕양구 행신동 812</td>\n",
       "      <td>경기도 고양시 덕양구 소원로 114</td>\n",
       "      <td>126.834117</td>\n",
       "      <td>37.612170</td>\n",
       "    </tr>\n",
       "    <tr>\n",
       "      <th>10</th>\n",
       "      <td>경의중앙</td>\n",
       "      <td>화전(한국항공대)</td>\n",
       "      <td>경기도 고양시 덕양구 화전동 183-10</td>\n",
       "      <td>경기도 고양시 덕양구 화랑로 53</td>\n",
       "      <td>126.867947</td>\n",
       "      <td>37.603298</td>\n",
       "    </tr>\n",
       "    <tr>\n",
       "      <th>11</th>\n",
       "      <td>경의중앙</td>\n",
       "      <td>탄현</td>\n",
       "      <td>경기도 고양시 일산서구 덕이동 238번지</td>\n",
       "      <td>경기도 고양시 일산서구 경의로 856</td>\n",
       "      <td>126.761166</td>\n",
       "      <td>37.693857</td>\n",
       "    </tr>\n",
       "    <tr>\n",
       "      <th>12</th>\n",
       "      <td>3호선</td>\n",
       "      <td>주엽</td>\n",
       "      <td>경기도 고양시 일산서구 주엽동 166-7</td>\n",
       "      <td>경기도 고양시 일산서구 중앙로 지하 1432</td>\n",
       "      <td>126.761230</td>\n",
       "      <td>37.670142</td>\n",
       "    </tr>\n",
       "    <tr>\n",
       "      <th>13</th>\n",
       "      <td>3호선</td>\n",
       "      <td>정발산</td>\n",
       "      <td>경기도 고양시 일산동구 마두동 1123</td>\n",
       "      <td>경기도 고양시 일산동구 중앙로 지하 1270</td>\n",
       "      <td>126.773359</td>\n",
       "      <td>37.659493</td>\n",
       "    </tr>\n",
       "    <tr>\n",
       "      <th>14</th>\n",
       "      <td>3호선</td>\n",
       "      <td>마두</td>\n",
       "      <td>경기도 고양시 일산동구 마두동 765-1</td>\n",
       "      <td>경기도 고양시 일산동구 중앙로 지하 1180</td>\n",
       "      <td>126.777650</td>\n",
       "      <td>37.652174</td>\n",
       "    </tr>\n",
       "    <tr>\n",
       "      <th>15</th>\n",
       "      <td>3호선</td>\n",
       "      <td>화정</td>\n",
       "      <td>경기도 고양시 덕양구 화정동 1098</td>\n",
       "      <td>경기도 고양시 덕양구 화정로 지하60</td>\n",
       "      <td>126.832666</td>\n",
       "      <td>37.634597</td>\n",
       "    </tr>\n",
       "    <tr>\n",
       "      <th>16</th>\n",
       "      <td>경의중앙</td>\n",
       "      <td>곡산</td>\n",
       "      <td>경기도 고양시 일산동구 백석동 1185-1</td>\n",
       "      <td>경기도 고양시 일산동구 경의로 160</td>\n",
       "      <td>126.801514</td>\n",
       "      <td>37.646127</td>\n",
       "    </tr>\n",
       "    <tr>\n",
       "      <th>17</th>\n",
       "      <td>3호선</td>\n",
       "      <td>원흥</td>\n",
       "      <td>경기도 고양시 덕양구 원흥동 569-15</td>\n",
       "      <td>경기도 고양시 덕양구 권율대로 681</td>\n",
       "      <td>126.872600</td>\n",
       "      <td>37.650746</td>\n",
       "    </tr>\n",
       "    <tr>\n",
       "      <th>18</th>\n",
       "      <td>3호선</td>\n",
       "      <td>원당</td>\n",
       "      <td>경기도 고양시 덕양구 성사동 410-7</td>\n",
       "      <td>경기도 고양시 덕양구 고양대로 1429</td>\n",
       "      <td>126.843030</td>\n",
       "      <td>37.653316</td>\n",
       "    </tr>\n",
       "    <tr>\n",
       "      <th>19</th>\n",
       "      <td>3호선</td>\n",
       "      <td>삼송</td>\n",
       "      <td>경기도 고양시 덕양구 삼송동 18-5</td>\n",
       "      <td>경기도 고양시 덕양구 삼송로 지하 194</td>\n",
       "      <td>126.895590</td>\n",
       "      <td>37.653110</td>\n",
       "    </tr>\n",
       "    <tr>\n",
       "      <th>20</th>\n",
       "      <td>3호선</td>\n",
       "      <td>지축역</td>\n",
       "      <td>NaN</td>\n",
       "      <td>경기도 고양시 덕양구 삼송로 300</td>\n",
       "      <td>126.913728</td>\n",
       "      <td>37.648118</td>\n",
       "    </tr>\n",
       "  </tbody>\n",
       "</table>\n",
       "</div>"
      ],
      "text/plain": [
       "   rail_nm station_nm              lot_num_addr                 road_nm_addr  \\\n",
       "0      3호선         대곡     경기도 고양시 덕양구 대장동 420-1   경기도 고양시 덕양구 대주로107번길 71-81   \n",
       "1      3호선         대화     경기도 고양시 일산서구 대화동 2221     경기도 고양시 일산서구 중앙로 지하 1569   \n",
       "2     경의중앙         일산  경기도 고양시 일산서구 일산동 655-691         경기도 고양시 일산서구 경의로 672   \n",
       "3      3호선         백석     경기도 고양시 일산동구 백석동 1538     경기도 고양시 일산동구 중앙로 지하 1042   \n",
       "4     경의중앙         대곡     경기도 고양시 덕양구 대장동 420-1  경기도 고양시 덕양구 대주로 107번길 71-81   \n",
       "5     경의중앙         강매    경기도 고양시 덕양구 행신동 1115-1          경기도 고양시 덕양구 소원로 202   \n",
       "6     경의중앙         백마       경기도 고양시 일산동구 백석동 92         경기도 고양시 일산동구 경의로 318   \n",
       "7     경의중앙         능곡     경기도 고양시 덕양구 토당동 454-3           경기도 고양시 덕양구 토당로 35   \n",
       "8     경의중앙         풍산      경기도 고양시 일산동구 풍동 1042         경기도 고양시 일산동구 경의로 486   \n",
       "9     경의중앙         행신       경기도 고양시 덕양구 행신동 812          경기도 고양시 덕양구 소원로 114   \n",
       "10    경의중앙  화전(한국항공대)    경기도 고양시 덕양구 화전동 183-10           경기도 고양시 덕양구 화랑로 53   \n",
       "11    경의중앙         탄현    경기도 고양시 일산서구 덕이동 238번지         경기도 고양시 일산서구 경의로 856   \n",
       "12     3호선         주엽    경기도 고양시 일산서구 주엽동 166-7     경기도 고양시 일산서구 중앙로 지하 1432   \n",
       "13     3호선        정발산     경기도 고양시 일산동구 마두동 1123     경기도 고양시 일산동구 중앙로 지하 1270   \n",
       "14     3호선         마두    경기도 고양시 일산동구 마두동 765-1     경기도 고양시 일산동구 중앙로 지하 1180   \n",
       "15     3호선         화정      경기도 고양시 덕양구 화정동 1098         경기도 고양시 덕양구 화정로 지하60   \n",
       "16    경의중앙         곡산   경기도 고양시 일산동구 백석동 1185-1         경기도 고양시 일산동구 경의로 160   \n",
       "17     3호선         원흥    경기도 고양시 덕양구 원흥동 569-15         경기도 고양시 덕양구 권율대로 681   \n",
       "18     3호선         원당     경기도 고양시 덕양구 성사동 410-7        경기도 고양시 덕양구 고양대로 1429   \n",
       "19     3호선         삼송      경기도 고양시 덕양구 삼송동 18-5       경기도 고양시 덕양구 삼송로 지하 194   \n",
       "20     3호선        지축역                       NaN          경기도 고양시 덕양구 삼송로 300   \n",
       "\n",
       "             X          Y  \n",
       "0   126.809614  37.632306  \n",
       "1   126.747206  37.675846  \n",
       "2   126.770067  37.682007  \n",
       "3   126.788148  37.642953  \n",
       "4   126.811047  37.631615  \n",
       "5   126.844436  37.612290  \n",
       "6   126.794067  37.658431  \n",
       "7   126.820838  37.618765  \n",
       "8   126.786528  37.671815  \n",
       "9   126.834117  37.612170  \n",
       "10  126.867947  37.603298  \n",
       "11  126.761166  37.693857  \n",
       "12  126.761230  37.670142  \n",
       "13  126.773359  37.659493  \n",
       "14  126.777650  37.652174  \n",
       "15  126.832666  37.634597  \n",
       "16  126.801514  37.646127  \n",
       "17  126.872600  37.650746  \n",
       "18  126.843030  37.653316  \n",
       "19  126.895590  37.653110  \n",
       "20  126.913728  37.648118  "
      ]
     },
     "execution_count": 13,
     "metadata": {},
     "output_type": "execute_result"
    }
   ],
   "source": [
    "전철역 = pd.read_csv(p.joinpath('19.전철역_공간정보.csv'))\n",
    "전철역"
   ]
  },
  {
   "cell_type": "code",
   "execution_count": 14,
   "metadata": {},
   "outputs": [
    {
     "data": {
      "text/html": [
       "<div>\n",
       "<style scoped>\n",
       "    .dataframe tbody tr th:only-of-type {\n",
       "        vertical-align: middle;\n",
       "    }\n",
       "\n",
       "    .dataframe tbody tr th {\n",
       "        vertical-align: top;\n",
       "    }\n",
       "\n",
       "    .dataframe thead th {\n",
       "        text-align: right;\n",
       "    }\n",
       "</style>\n",
       "<table border=\"1\" class=\"dataframe\">\n",
       "  <thead>\n",
       "    <tr style=\"text-align: right;\">\n",
       "      <th></th>\n",
       "      <th>STATION_NM</th>\n",
       "      <th>STATION_ID</th>\n",
       "      <th>X</th>\n",
       "      <th>Y</th>\n",
       "    </tr>\n",
       "  </thead>\n",
       "  <tbody>\n",
       "    <tr>\n",
       "      <th>0</th>\n",
       "      <td>신일비즈니스고등학교</td>\n",
       "      <td>219000619</td>\n",
       "      <td>126.760592</td>\n",
       "      <td>37.683296</td>\n",
       "    </tr>\n",
       "    <tr>\n",
       "      <th>1</th>\n",
       "      <td>중앙공원삼거리</td>\n",
       "      <td>219000587</td>\n",
       "      <td>126.776989</td>\n",
       "      <td>37.688934</td>\n",
       "    </tr>\n",
       "    <tr>\n",
       "      <th>2</th>\n",
       "      <td>문촌마을14.19단지</td>\n",
       "      <td>219000624</td>\n",
       "      <td>126.752451</td>\n",
       "      <td>37.671011</td>\n",
       "    </tr>\n",
       "    <tr>\n",
       "      <th>3</th>\n",
       "      <td>문촌마을14.19단지</td>\n",
       "      <td>219000623</td>\n",
       "      <td>126.752452</td>\n",
       "      <td>37.671448</td>\n",
       "    </tr>\n",
       "    <tr>\n",
       "      <th>4</th>\n",
       "      <td>중앙공원삼거리</td>\n",
       "      <td>219000586</td>\n",
       "      <td>126.777412</td>\n",
       "      <td>37.688771</td>\n",
       "    </tr>\n",
       "    <tr>\n",
       "      <th>...</th>\n",
       "      <td>...</td>\n",
       "      <td>...</td>\n",
       "      <td>...</td>\n",
       "      <td>...</td>\n",
       "    </tr>\n",
       "    <tr>\n",
       "      <th>2227</th>\n",
       "      <td>고양시청후문</td>\n",
       "      <td>218000940</td>\n",
       "      <td>126.832676</td>\n",
       "      <td>37.659090</td>\n",
       "    </tr>\n",
       "    <tr>\n",
       "      <th>2228</th>\n",
       "      <td>사리현동문아파트</td>\n",
       "      <td>219000927</td>\n",
       "      <td>126.845347</td>\n",
       "      <td>37.699382</td>\n",
       "    </tr>\n",
       "    <tr>\n",
       "      <th>2229</th>\n",
       "      <td>서울시립고양병원입구</td>\n",
       "      <td>218000530</td>\n",
       "      <td>126.852005</td>\n",
       "      <td>37.712236</td>\n",
       "    </tr>\n",
       "    <tr>\n",
       "      <th>2230</th>\n",
       "      <td>옥빛마을14.15단지</td>\n",
       "      <td>218001000</td>\n",
       "      <td>126.833325</td>\n",
       "      <td>37.628699</td>\n",
       "    </tr>\n",
       "    <tr>\n",
       "      <th>2231</th>\n",
       "      <td>토당육교교차로</td>\n",
       "      <td>218000353</td>\n",
       "      <td>126.822097</td>\n",
       "      <td>37.628753</td>\n",
       "    </tr>\n",
       "  </tbody>\n",
       "</table>\n",
       "<p>2232 rows × 4 columns</p>\n",
       "</div>"
      ],
      "text/plain": [
       "       STATION_NM  STATION_ID           X          Y\n",
       "0      신일비즈니스고등학교   219000619  126.760592  37.683296\n",
       "1         중앙공원삼거리   219000587  126.776989  37.688934\n",
       "2     문촌마을14.19단지   219000624  126.752451  37.671011\n",
       "3     문촌마을14.19단지   219000623  126.752452  37.671448\n",
       "4         중앙공원삼거리   219000586  126.777412  37.688771\n",
       "...           ...         ...         ...        ...\n",
       "2227       고양시청후문   218000940  126.832676  37.659090\n",
       "2228     사리현동문아파트   219000927  126.845347  37.699382\n",
       "2229   서울시립고양병원입구   218000530  126.852005  37.712236\n",
       "2230  옥빛마을14.15단지   218001000  126.833325  37.628699\n",
       "2231      토당육교교차로   218000353  126.822097  37.628753\n",
       "\n",
       "[2232 rows x 4 columns]"
      ]
     },
     "execution_count": 14,
     "metadata": {},
     "output_type": "execute_result"
    }
   ],
   "source": [
    "버스정류소 = pd.read_csv(p.joinpath('20.고양시_버스정류소.csv'))\n",
    "버스정류소"
   ]
  },
  {
   "cell_type": "code",
   "execution_count": 15,
   "metadata": {
    "scrolled": true
   },
   "outputs": [
    {
     "data": {
      "text/html": [
       "<div>\n",
       "<style scoped>\n",
       "    .dataframe tbody tr th:only-of-type {\n",
       "        vertical-align: middle;\n",
       "    }\n",
       "\n",
       "    .dataframe tbody tr th {\n",
       "        vertical-align: top;\n",
       "    }\n",
       "\n",
       "    .dataframe thead th {\n",
       "        text-align: right;\n",
       "    }\n",
       "</style>\n",
       "<table border=\"1\" class=\"dataframe\">\n",
       "  <thead>\n",
       "    <tr style=\"text-align: right;\">\n",
       "      <th></th>\n",
       "      <th>BDTYP_CD</th>\n",
       "      <th>BULD_NM</th>\n",
       "      <th>BULD_NM_DC</th>\n",
       "      <th>EMD_CD</th>\n",
       "      <th>GRO_FLO_CO</th>\n",
       "      <th>SIG_CD</th>\n",
       "      <th>UND_FLO_CO</th>\n",
       "      <th>geometry</th>\n",
       "    </tr>\n",
       "  </thead>\n",
       "  <tbody>\n",
       "    <tr>\n",
       "      <th>0</th>\n",
       "      <td>01003</td>\n",
       "      <td>None</td>\n",
       "      <td>None</td>\n",
       "      <td>105</td>\n",
       "      <td>4</td>\n",
       "      <td>41281</td>\n",
       "      <td>0</td>\n",
       "      <td>MULTIPOLYGON (((126.87256 37.62531, 126.87259 ...</td>\n",
       "    </tr>\n",
       "    <tr>\n",
       "      <th>1</th>\n",
       "      <td>02003</td>\n",
       "      <td>헤리티지</td>\n",
       "      <td>3단지</td>\n",
       "      <td>113</td>\n",
       "      <td>4</td>\n",
       "      <td>41285</td>\n",
       "      <td>1</td>\n",
       "      <td>MULTIPOLYGON (((126.77481 37.70779, 126.77485 ...</td>\n",
       "    </tr>\n",
       "    <tr>\n",
       "      <th>2</th>\n",
       "      <td>02003</td>\n",
       "      <td>헤리티지</td>\n",
       "      <td>2단지</td>\n",
       "      <td>113</td>\n",
       "      <td>4</td>\n",
       "      <td>41285</td>\n",
       "      <td>1</td>\n",
       "      <td>MULTIPOLYGON (((126.77510 37.70767, 126.77515 ...</td>\n",
       "    </tr>\n",
       "    <tr>\n",
       "      <th>3</th>\n",
       "      <td>03999</td>\n",
       "      <td>None</td>\n",
       "      <td>None</td>\n",
       "      <td>111</td>\n",
       "      <td>3</td>\n",
       "      <td>41281</td>\n",
       "      <td>0</td>\n",
       "      <td>MULTIPOLYGON (((126.89398 37.65698, 126.89411 ...</td>\n",
       "    </tr>\n",
       "    <tr>\n",
       "      <th>4</th>\n",
       "      <td>03005</td>\n",
       "      <td>None</td>\n",
       "      <td>None</td>\n",
       "      <td>103</td>\n",
       "      <td>5</td>\n",
       "      <td>41281</td>\n",
       "      <td>0</td>\n",
       "      <td>MULTIPOLYGON (((126.89124 37.66385, 126.89140 ...</td>\n",
       "    </tr>\n",
       "    <tr>\n",
       "      <th>...</th>\n",
       "      <td>...</td>\n",
       "      <td>...</td>\n",
       "      <td>...</td>\n",
       "      <td>...</td>\n",
       "      <td>...</td>\n",
       "      <td>...</td>\n",
       "      <td>...</td>\n",
       "      <td>...</td>\n",
       "    </tr>\n",
       "    <tr>\n",
       "      <th>79997</th>\n",
       "      <td>03012</td>\n",
       "      <td>None</td>\n",
       "      <td>None</td>\n",
       "      <td>132</td>\n",
       "      <td>1</td>\n",
       "      <td>41281</td>\n",
       "      <td>0</td>\n",
       "      <td>MULTIPOLYGON (((126.88868 37.59669, 126.88878 ...</td>\n",
       "    </tr>\n",
       "    <tr>\n",
       "      <th>79998</th>\n",
       "      <td>21999</td>\n",
       "      <td>None</td>\n",
       "      <td>None</td>\n",
       "      <td>132</td>\n",
       "      <td>1</td>\n",
       "      <td>41281</td>\n",
       "      <td>0</td>\n",
       "      <td>MULTIPOLYGON (((126.88879 37.59669, 126.88889 ...</td>\n",
       "    </tr>\n",
       "    <tr>\n",
       "      <th>79999</th>\n",
       "      <td>03001</td>\n",
       "      <td>None</td>\n",
       "      <td>None</td>\n",
       "      <td>115</td>\n",
       "      <td>1</td>\n",
       "      <td>41281</td>\n",
       "      <td>0</td>\n",
       "      <td>MULTIPOLYGON (((126.90831 37.69544, 126.90847 ...</td>\n",
       "    </tr>\n",
       "    <tr>\n",
       "      <th>80000</th>\n",
       "      <td>01003</td>\n",
       "      <td>None</td>\n",
       "      <td>None</td>\n",
       "      <td>132</td>\n",
       "      <td>4</td>\n",
       "      <td>41281</td>\n",
       "      <td>0</td>\n",
       "      <td>MULTIPOLYGON (((126.89266 37.60498, 126.89280 ...</td>\n",
       "    </tr>\n",
       "    <tr>\n",
       "      <th>80001</th>\n",
       "      <td>01001</td>\n",
       "      <td>None</td>\n",
       "      <td>None</td>\n",
       "      <td>119</td>\n",
       "      <td>1</td>\n",
       "      <td>41281</td>\n",
       "      <td>0</td>\n",
       "      <td>MULTIPOLYGON (((126.84156 37.73139, 126.84161 ...</td>\n",
       "    </tr>\n",
       "  </tbody>\n",
       "</table>\n",
       "<p>80002 rows × 8 columns</p>\n",
       "</div>"
      ],
      "text/plain": [
       "      BDTYP_CD BULD_NM BULD_NM_DC EMD_CD  GRO_FLO_CO SIG_CD  UND_FLO_CO  \\\n",
       "0        01003    None       None    105           4  41281           0   \n",
       "1        02003    헤리티지        3단지    113           4  41285           1   \n",
       "2        02003    헤리티지        2단지    113           4  41285           1   \n",
       "3        03999    None       None    111           3  41281           0   \n",
       "4        03005    None       None    103           5  41281           0   \n",
       "...        ...     ...        ...    ...         ...    ...         ...   \n",
       "79997    03012    None       None    132           1  41281           0   \n",
       "79998    21999    None       None    132           1  41281           0   \n",
       "79999    03001    None       None    115           1  41281           0   \n",
       "80000    01003    None       None    132           4  41281           0   \n",
       "80001    01001    None       None    119           1  41281           0   \n",
       "\n",
       "                                                geometry  \n",
       "0      MULTIPOLYGON (((126.87256 37.62531, 126.87259 ...  \n",
       "1      MULTIPOLYGON (((126.77481 37.70779, 126.77485 ...  \n",
       "2      MULTIPOLYGON (((126.77510 37.70767, 126.77515 ...  \n",
       "3      MULTIPOLYGON (((126.89398 37.65698, 126.89411 ...  \n",
       "4      MULTIPOLYGON (((126.89124 37.66385, 126.89140 ...  \n",
       "...                                                  ...  \n",
       "79997  MULTIPOLYGON (((126.88868 37.59669, 126.88878 ...  \n",
       "79998  MULTIPOLYGON (((126.88879 37.59669, 126.88889 ...  \n",
       "79999  MULTIPOLYGON (((126.90831 37.69544, 126.90847 ...  \n",
       "80000  MULTIPOLYGON (((126.89266 37.60498, 126.89280 ...  \n",
       "80001  MULTIPOLYGON (((126.84156 37.73139, 126.84161 ...  \n",
       "\n",
       "[80002 rows x 8 columns]"
      ]
     },
     "execution_count": 15,
     "metadata": {},
     "output_type": "execute_result"
    }
   ],
   "source": [
    "도로명주소_건물 = gpd.read_file(p.joinpath('15.도로명주소_건물.geojson'))\n",
    "도로명주소_건물"
   ]
  },
  {
   "cell_type": "code",
   "execution_count": 16,
   "metadata": {
    "scrolled": true
   },
   "outputs": [
    {
     "data": {
      "text/html": [
       "<div>\n",
       "<style scoped>\n",
       "    .dataframe tbody tr th:only-of-type {\n",
       "        vertical-align: middle;\n",
       "    }\n",
       "\n",
       "    .dataframe tbody tr th {\n",
       "        vertical-align: top;\n",
       "    }\n",
       "\n",
       "    .dataframe thead th {\n",
       "        text-align: right;\n",
       "    }\n",
       "</style>\n",
       "<table border=\"1\" class=\"dataframe\">\n",
       "  <thead>\n",
       "    <tr style=\"text-align: right;\">\n",
       "      <th></th>\n",
       "      <th>BDTYP_CD</th>\n",
       "      <th>BULD_NM</th>\n",
       "      <th>BULD_NM_DC</th>\n",
       "      <th>EMD_CD</th>\n",
       "      <th>GRO_FLO_CO</th>\n",
       "      <th>SIG_CD</th>\n",
       "      <th>UND_FLO_CO</th>\n",
       "    </tr>\n",
       "  </thead>\n",
       "  <tbody>\n",
       "    <tr>\n",
       "      <th>count</th>\n",
       "      <td>80002</td>\n",
       "      <td>9008</td>\n",
       "      <td>10310</td>\n",
       "      <td>80002</td>\n",
       "      <td>80002</td>\n",
       "      <td>80002</td>\n",
       "      <td>80002</td>\n",
       "    </tr>\n",
       "    <tr>\n",
       "      <th>unique</th>\n",
       "      <td>220</td>\n",
       "      <td>3348</td>\n",
       "      <td>1049</td>\n",
       "      <td>32</td>\n",
       "      <td>48</td>\n",
       "      <td>3</td>\n",
       "      <td>8</td>\n",
       "    </tr>\n",
       "    <tr>\n",
       "      <th>top</th>\n",
       "      <td>01001</td>\n",
       "      <td>후곡마을</td>\n",
       "      <td>가동</td>\n",
       "      <td>104</td>\n",
       "      <td>1</td>\n",
       "      <td>41281</td>\n",
       "      <td>0</td>\n",
       "    </tr>\n",
       "    <tr>\n",
       "      <th>freq</th>\n",
       "      <td>28043</td>\n",
       "      <td>219</td>\n",
       "      <td>673</td>\n",
       "      <td>7783</td>\n",
       "      <td>59311</td>\n",
       "      <td>36671</td>\n",
       "      <td>77384</td>\n",
       "    </tr>\n",
       "  </tbody>\n",
       "</table>\n",
       "</div>"
      ],
      "text/plain": [
       "       BDTYP_CD BULD_NM BULD_NM_DC EMD_CD GRO_FLO_CO SIG_CD UND_FLO_CO\n",
       "count     80002    9008      10310  80002      80002  80002      80002\n",
       "unique      220    3348       1049     32         48      3          8\n",
       "top       01001    후곡마을         가동    104          1  41281          0\n",
       "freq      28043     219        673   7783      59311  36671      77384"
      ]
     },
     "execution_count": 16,
     "metadata": {},
     "output_type": "execute_result"
    }
   ],
   "source": [
    "for column in ['GRO_FLO_CO', 'UND_FLO_CO']:\n",
    "    도로명주소_건물[column] = 도로명주소_건물[column].apply(str)\n",
    "    \n",
    "도로명주소_건물.drop('geometry', axis=1).describe(include='all')"
   ]
  },
  {
   "cell_type": "code",
   "execution_count": 17,
   "metadata": {},
   "outputs": [
    {
     "data": {
      "text/plain": [
       "399.3"
      ]
     },
     "execution_count": 17,
     "metadata": {},
     "output_type": "execute_result"
    }
   ],
   "source": [
    "# 5분동안 걷는 최고걸이\n",
    "도보속도 = 133.1\n",
    "거리 = 5 * 133.1 / 100 * 60\n",
    "거리"
   ]
  },
  {
   "cell_type": "code",
   "execution_count": 18,
   "metadata": {},
   "outputs": [
    {
     "data": {
      "text/plain": [
       "1.0247175113158795e-05"
      ]
     },
     "execution_count": 18,
     "metadata": {},
     "output_type": "execute_result"
    }
   ],
   "source": [
    "축척 = sum([\n",
    "    *(인구분포도['geometry'].bounds['maxx'] - 인구분포도['geometry'].bounds['minx']),\n",
    "    *(인구분포도['geometry'].bounds['maxy'] - 인구분포도['geometry'].bounds['miny']),\n",
    "]) / (2 * len(인구분포도)) / 100\n",
    "축척"
   ]
  },
  {
   "cell_type": "markdown",
   "metadata": {},
   "source": [
    "# 학습 데이터 생성\n",
    "#### 자전거 스테이션별 인구분포 평균, 버스정류장 존재 여부, 건물용도별 존재 여부"
   ]
  },
  {
   "cell_type": "code",
   "execution_count": 23,
   "metadata": {
    "scrolled": false
   },
   "outputs": [
    {
     "data": {
      "application/vnd.jupyter.widget-view+json": {
       "model_id": "5c3f6b4ee7684422a2b358ee44905f7d",
       "version_major": 2,
       "version_minor": 0
      },
      "text/plain": [
       "HBox(children=(FloatProgress(value=0.0, max=6.0), HTML(value='')))"
      ]
     },
     "metadata": {},
     "output_type": "display_data"
    },
    {
     "name": "stdout",
     "output_type": "stream",
     "text": [
      "\n"
     ]
    },
    {
     "data": {
      "text/html": [
       "<div>\n",
       "<style scoped>\n",
       "    .dataframe tbody tr th:only-of-type {\n",
       "        vertical-align: middle;\n",
       "    }\n",
       "\n",
       "    .dataframe tbody tr th {\n",
       "        vertical-align: top;\n",
       "    }\n",
       "\n",
       "    .dataframe thead th {\n",
       "        text-align: right;\n",
       "    }\n",
       "</style>\n",
       "<table border=\"1\" class=\"dataframe\">\n",
       "  <thead>\n",
       "    <tr style=\"text-align: right;\">\n",
       "      <th></th>\n",
       "      <th>인구분포</th>\n",
       "      <th>전철역</th>\n",
       "      <th>버스정류소</th>\n",
       "      <th>01001</th>\n",
       "      <th>01002</th>\n",
       "      <th>01003</th>\n",
       "      <th>01004</th>\n",
       "      <th>02001</th>\n",
       "      <th>02002</th>\n",
       "      <th>02003</th>\n",
       "      <th>...</th>\n",
       "      <th>19007</th>\n",
       "      <th>19999</th>\n",
       "      <th>20002</th>\n",
       "      <th>20003</th>\n",
       "      <th>20999</th>\n",
       "      <th>21006</th>\n",
       "      <th>21999</th>\n",
       "      <th>27999</th>\n",
       "      <th>90001</th>\n",
       "      <th>90002</th>\n",
       "    </tr>\n",
       "    <tr>\n",
       "      <th>Station_ID</th>\n",
       "      <th></th>\n",
       "      <th></th>\n",
       "      <th></th>\n",
       "      <th></th>\n",
       "      <th></th>\n",
       "      <th></th>\n",
       "      <th></th>\n",
       "      <th></th>\n",
       "      <th></th>\n",
       "      <th></th>\n",
       "      <th></th>\n",
       "      <th></th>\n",
       "      <th></th>\n",
       "      <th></th>\n",
       "      <th></th>\n",
       "      <th></th>\n",
       "      <th></th>\n",
       "      <th></th>\n",
       "      <th></th>\n",
       "      <th></th>\n",
       "      <th></th>\n",
       "    </tr>\n",
       "  </thead>\n",
       "  <tbody>\n",
       "    <tr>\n",
       "      <th>101</th>\n",
       "      <td>240.220000</td>\n",
       "      <td>0.0</td>\n",
       "      <td>1.0</td>\n",
       "      <td>1.0</td>\n",
       "      <td>1.0</td>\n",
       "      <td>1.0</td>\n",
       "      <td>0.0</td>\n",
       "      <td>1.0</td>\n",
       "      <td>1.0</td>\n",
       "      <td>1.0</td>\n",
       "      <td>...</td>\n",
       "      <td>0.0</td>\n",
       "      <td>0.0</td>\n",
       "      <td>0.0</td>\n",
       "      <td>0.0</td>\n",
       "      <td>0.0</td>\n",
       "      <td>0.0</td>\n",
       "      <td>0.0</td>\n",
       "      <td>0.0</td>\n",
       "      <td>0.0</td>\n",
       "      <td>0.0</td>\n",
       "    </tr>\n",
       "    <tr>\n",
       "      <th>103</th>\n",
       "      <td>311.423077</td>\n",
       "      <td>0.0</td>\n",
       "      <td>1.0</td>\n",
       "      <td>1.0</td>\n",
       "      <td>1.0</td>\n",
       "      <td>1.0</td>\n",
       "      <td>0.0</td>\n",
       "      <td>1.0</td>\n",
       "      <td>1.0</td>\n",
       "      <td>1.0</td>\n",
       "      <td>...</td>\n",
       "      <td>0.0</td>\n",
       "      <td>0.0</td>\n",
       "      <td>0.0</td>\n",
       "      <td>0.0</td>\n",
       "      <td>0.0</td>\n",
       "      <td>0.0</td>\n",
       "      <td>0.0</td>\n",
       "      <td>0.0</td>\n",
       "      <td>0.0</td>\n",
       "      <td>0.0</td>\n",
       "    </tr>\n",
       "    <tr>\n",
       "      <th>104</th>\n",
       "      <td>332.300000</td>\n",
       "      <td>0.0</td>\n",
       "      <td>1.0</td>\n",
       "      <td>1.0</td>\n",
       "      <td>0.0</td>\n",
       "      <td>0.0</td>\n",
       "      <td>0.0</td>\n",
       "      <td>1.0</td>\n",
       "      <td>0.0</td>\n",
       "      <td>0.0</td>\n",
       "      <td>...</td>\n",
       "      <td>0.0</td>\n",
       "      <td>0.0</td>\n",
       "      <td>0.0</td>\n",
       "      <td>0.0</td>\n",
       "      <td>0.0</td>\n",
       "      <td>0.0</td>\n",
       "      <td>0.0</td>\n",
       "      <td>0.0</td>\n",
       "      <td>1.0</td>\n",
       "      <td>0.0</td>\n",
       "    </tr>\n",
       "    <tr>\n",
       "      <th>105</th>\n",
       "      <td>271.884615</td>\n",
       "      <td>0.0</td>\n",
       "      <td>1.0</td>\n",
       "      <td>1.0</td>\n",
       "      <td>1.0</td>\n",
       "      <td>1.0</td>\n",
       "      <td>0.0</td>\n",
       "      <td>1.0</td>\n",
       "      <td>1.0</td>\n",
       "      <td>1.0</td>\n",
       "      <td>...</td>\n",
       "      <td>0.0</td>\n",
       "      <td>0.0</td>\n",
       "      <td>0.0</td>\n",
       "      <td>0.0</td>\n",
       "      <td>0.0</td>\n",
       "      <td>0.0</td>\n",
       "      <td>0.0</td>\n",
       "      <td>0.0</td>\n",
       "      <td>0.0</td>\n",
       "      <td>0.0</td>\n",
       "    </tr>\n",
       "    <tr>\n",
       "      <th>106</th>\n",
       "      <td>116.222222</td>\n",
       "      <td>1.0</td>\n",
       "      <td>1.0</td>\n",
       "      <td>1.0</td>\n",
       "      <td>0.0</td>\n",
       "      <td>1.0</td>\n",
       "      <td>0.0</td>\n",
       "      <td>1.0</td>\n",
       "      <td>1.0</td>\n",
       "      <td>1.0</td>\n",
       "      <td>...</td>\n",
       "      <td>0.0</td>\n",
       "      <td>0.0</td>\n",
       "      <td>0.0</td>\n",
       "      <td>0.0</td>\n",
       "      <td>0.0</td>\n",
       "      <td>0.0</td>\n",
       "      <td>0.0</td>\n",
       "      <td>0.0</td>\n",
       "      <td>1.0</td>\n",
       "      <td>0.0</td>\n",
       "    </tr>\n",
       "    <tr>\n",
       "      <th>...</th>\n",
       "      <td>...</td>\n",
       "      <td>...</td>\n",
       "      <td>...</td>\n",
       "      <td>...</td>\n",
       "      <td>...</td>\n",
       "      <td>...</td>\n",
       "      <td>...</td>\n",
       "      <td>...</td>\n",
       "      <td>...</td>\n",
       "      <td>...</td>\n",
       "      <td>...</td>\n",
       "      <td>...</td>\n",
       "      <td>...</td>\n",
       "      <td>...</td>\n",
       "      <td>...</td>\n",
       "      <td>...</td>\n",
       "      <td>...</td>\n",
       "      <td>...</td>\n",
       "      <td>...</td>\n",
       "      <td>...</td>\n",
       "      <td>...</td>\n",
       "    </tr>\n",
       "    <tr>\n",
       "      <th>350</th>\n",
       "      <td>239.431373</td>\n",
       "      <td>0.0</td>\n",
       "      <td>1.0</td>\n",
       "      <td>1.0</td>\n",
       "      <td>0.0</td>\n",
       "      <td>1.0</td>\n",
       "      <td>0.0</td>\n",
       "      <td>1.0</td>\n",
       "      <td>0.0</td>\n",
       "      <td>1.0</td>\n",
       "      <td>...</td>\n",
       "      <td>0.0</td>\n",
       "      <td>0.0</td>\n",
       "      <td>0.0</td>\n",
       "      <td>0.0</td>\n",
       "      <td>0.0</td>\n",
       "      <td>0.0</td>\n",
       "      <td>0.0</td>\n",
       "      <td>0.0</td>\n",
       "      <td>0.0</td>\n",
       "      <td>0.0</td>\n",
       "    </tr>\n",
       "    <tr>\n",
       "      <th>351</th>\n",
       "      <td>290.730769</td>\n",
       "      <td>0.0</td>\n",
       "      <td>1.0</td>\n",
       "      <td>1.0</td>\n",
       "      <td>0.0</td>\n",
       "      <td>0.0</td>\n",
       "      <td>0.0</td>\n",
       "      <td>1.0</td>\n",
       "      <td>0.0</td>\n",
       "      <td>0.0</td>\n",
       "      <td>...</td>\n",
       "      <td>0.0</td>\n",
       "      <td>0.0</td>\n",
       "      <td>0.0</td>\n",
       "      <td>0.0</td>\n",
       "      <td>0.0</td>\n",
       "      <td>0.0</td>\n",
       "      <td>0.0</td>\n",
       "      <td>0.0</td>\n",
       "      <td>0.0</td>\n",
       "      <td>0.0</td>\n",
       "    </tr>\n",
       "    <tr>\n",
       "      <th>352</th>\n",
       "      <td>186.980769</td>\n",
       "      <td>0.0</td>\n",
       "      <td>1.0</td>\n",
       "      <td>1.0</td>\n",
       "      <td>0.0</td>\n",
       "      <td>1.0</td>\n",
       "      <td>0.0</td>\n",
       "      <td>1.0</td>\n",
       "      <td>0.0</td>\n",
       "      <td>0.0</td>\n",
       "      <td>...</td>\n",
       "      <td>0.0</td>\n",
       "      <td>0.0</td>\n",
       "      <td>0.0</td>\n",
       "      <td>0.0</td>\n",
       "      <td>0.0</td>\n",
       "      <td>0.0</td>\n",
       "      <td>1.0</td>\n",
       "      <td>0.0</td>\n",
       "      <td>0.0</td>\n",
       "      <td>0.0</td>\n",
       "    </tr>\n",
       "    <tr>\n",
       "      <th>353</th>\n",
       "      <td>171.921569</td>\n",
       "      <td>0.0</td>\n",
       "      <td>1.0</td>\n",
       "      <td>1.0</td>\n",
       "      <td>0.0</td>\n",
       "      <td>1.0</td>\n",
       "      <td>0.0</td>\n",
       "      <td>1.0</td>\n",
       "      <td>0.0</td>\n",
       "      <td>0.0</td>\n",
       "      <td>...</td>\n",
       "      <td>0.0</td>\n",
       "      <td>0.0</td>\n",
       "      <td>0.0</td>\n",
       "      <td>0.0</td>\n",
       "      <td>0.0</td>\n",
       "      <td>0.0</td>\n",
       "      <td>0.0</td>\n",
       "      <td>0.0</td>\n",
       "      <td>0.0</td>\n",
       "      <td>0.0</td>\n",
       "    </tr>\n",
       "    <tr>\n",
       "      <th>992</th>\n",
       "      <td>237.333333</td>\n",
       "      <td>1.0</td>\n",
       "      <td>1.0</td>\n",
       "      <td>1.0</td>\n",
       "      <td>1.0</td>\n",
       "      <td>1.0</td>\n",
       "      <td>0.0</td>\n",
       "      <td>1.0</td>\n",
       "      <td>0.0</td>\n",
       "      <td>1.0</td>\n",
       "      <td>...</td>\n",
       "      <td>0.0</td>\n",
       "      <td>0.0</td>\n",
       "      <td>0.0</td>\n",
       "      <td>0.0</td>\n",
       "      <td>0.0</td>\n",
       "      <td>0.0</td>\n",
       "      <td>0.0</td>\n",
       "      <td>0.0</td>\n",
       "      <td>1.0</td>\n",
       "      <td>1.0</td>\n",
       "    </tr>\n",
       "  </tbody>\n",
       "</table>\n",
       "<p>164 rows × 223 columns</p>\n",
       "</div>"
      ],
      "text/plain": [
       "                  인구분포  전철역  버스정류소  01001  01002  01003  01004  02001  02002  \\\n",
       "Station_ID                                                                     \n",
       "101         240.220000  0.0    1.0    1.0    1.0    1.0    0.0    1.0    1.0   \n",
       "103         311.423077  0.0    1.0    1.0    1.0    1.0    0.0    1.0    1.0   \n",
       "104         332.300000  0.0    1.0    1.0    0.0    0.0    0.0    1.0    0.0   \n",
       "105         271.884615  0.0    1.0    1.0    1.0    1.0    0.0    1.0    1.0   \n",
       "106         116.222222  1.0    1.0    1.0    0.0    1.0    0.0    1.0    1.0   \n",
       "...                ...  ...    ...    ...    ...    ...    ...    ...    ...   \n",
       "350         239.431373  0.0    1.0    1.0    0.0    1.0    0.0    1.0    0.0   \n",
       "351         290.730769  0.0    1.0    1.0    0.0    0.0    0.0    1.0    0.0   \n",
       "352         186.980769  0.0    1.0    1.0    0.0    1.0    0.0    1.0    0.0   \n",
       "353         171.921569  0.0    1.0    1.0    0.0    1.0    0.0    1.0    0.0   \n",
       "992         237.333333  1.0    1.0    1.0    1.0    1.0    0.0    1.0    0.0   \n",
       "\n",
       "            02003  ...  19007  19999  20002  20003  20999  21006  21999  \\\n",
       "Station_ID         ...                                                    \n",
       "101           1.0  ...    0.0    0.0    0.0    0.0    0.0    0.0    0.0   \n",
       "103           1.0  ...    0.0    0.0    0.0    0.0    0.0    0.0    0.0   \n",
       "104           0.0  ...    0.0    0.0    0.0    0.0    0.0    0.0    0.0   \n",
       "105           1.0  ...    0.0    0.0    0.0    0.0    0.0    0.0    0.0   \n",
       "106           1.0  ...    0.0    0.0    0.0    0.0    0.0    0.0    0.0   \n",
       "...           ...  ...    ...    ...    ...    ...    ...    ...    ...   \n",
       "350           1.0  ...    0.0    0.0    0.0    0.0    0.0    0.0    0.0   \n",
       "351           0.0  ...    0.0    0.0    0.0    0.0    0.0    0.0    0.0   \n",
       "352           0.0  ...    0.0    0.0    0.0    0.0    0.0    0.0    1.0   \n",
       "353           0.0  ...    0.0    0.0    0.0    0.0    0.0    0.0    0.0   \n",
       "992           1.0  ...    0.0    0.0    0.0    0.0    0.0    0.0    0.0   \n",
       "\n",
       "            27999  90001  90002  \n",
       "Station_ID                       \n",
       "101           0.0    0.0    0.0  \n",
       "103           0.0    0.0    0.0  \n",
       "104           0.0    1.0    0.0  \n",
       "105           0.0    0.0    0.0  \n",
       "106           0.0    1.0    0.0  \n",
       "...           ...    ...    ...  \n",
       "350           0.0    0.0    0.0  \n",
       "351           0.0    0.0    0.0  \n",
       "352           0.0    0.0    0.0  \n",
       "353           0.0    0.0    0.0  \n",
       "992           0.0    1.0    1.0  \n",
       "\n",
       "[164 rows x 223 columns]"
      ]
     },
     "execution_count": 23,
     "metadata": {},
     "output_type": "execute_result"
    }
   ],
   "source": [
    "def make_데이터(경도, 위도):\n",
    "    batch_size = 32\n",
    "    BDTYP_CD = 도로명주소_건물['BDTYP_CD'].unique().tolist()\n",
    "    BDTYP_CD.sort()\n",
    "    \n",
    "    \n",
    "    #geojson파일의 geometry열은 centroid.x랑 centroid.y 해줘야함\n",
    "    인구분포도_경위도 = np.stack([인구분포도['geometry'].centroid.x, 인구분포도['geometry'].centroid.y], axis=1).reshape([1, -1, 2]) #(27350,2) --> (1, 27350, 2)\n",
    "    전철역_경위도 = np.stack([전철역['X'], 전철역['Y']], axis=1)\n",
    "    버스정류소_경위도 = np.stack([버스정류소['X'], 버스정류소['Y']], axis=1)\n",
    "    도로명주소_건물_경위도 = np.stack([도로명주소_건물['geometry'].centroid.x, 도로명주소_건물['geometry'].centroid.y], axis=1).reshape([1, -1, 2])\n",
    "    도로명주소_건물_속성 = 도로명주소_건물.loc[:, 'BDTYP_CD'].apply(BDTYP_CD.index).values.reshape([1, -1])\n",
    "    \n",
    "    # np.ceil : 각 원소 값보다 크거나 같은 가장 작은 정수 값\n",
    "    데이터 = pd.DataFrame()\n",
    "    for i in tqdm(range(int(np.ceil(len(경도) / batch_size)))): #range(0,6)\n",
    "        s, e = batch_size * i, batch_size * (i+1)\n",
    "        자전거스테이션_경위도 = np.stack([경도[s:e], 위도[s:e]], axis=1).reshape([-1, 1, 2])\n",
    "        인구분포_조건 = np.sum((자전거스테이션_경위도 - 인구분포도_경위도)**2, axis=2)**0.5 < 거리 * 축척  #shape(32,27350)\n",
    "        인구분포 = np.array([인구분포도.loc[x, 'val'].mean() for x in 인구분포_조건])   #shape(32,)\n",
    "        전철역_조건 = np.any(np.sum((자전거스테이션_경위도 - 전철역_경위도)**2, axis=2)**0.5 < 거리 * 축척, axis=1)   #shape(32,)\n",
    "        버스정류소_조건 = np.any(np.sum((자전거스테이션_경위도 - 버스정류소_경위도)**2, axis=2)**0.5 < 거리 * 축척, axis=1)   #shape(32,)\n",
    "        도로명주소_건물_조건 = np.sum((자전거스테이션_경위도 - 도로명주소_건물_경위도)**2, axis=2)**0.5 < 거리 * 축척    #shape(32,80002)\n",
    "        도로명주소_건물_데이터 = np.zeros([len(BDTYP_CD), len(자전거스테이션_경위도)])    #shape(220,32)\n",
    "        for i, x in enumerate(도로명주소_건물_속성 * 도로명주소_건물_조건):  #shape(32,80002)\n",
    "            x = set(x)\n",
    "            도로명주소_건물_데이터[:, i] = pd.Series(range(len(BDTYP_CD))).apply(x.__contains__).values #__contains__ : 아이템 존재하면 true\n",
    "            #도로명주소_건물_데이터 : (220,32)의 True/False dataframe\n",
    "            \n",
    "        데이터 = 데이터.append(pd.DataFrame(\n",
    "            columns=['인구분포', '전철역', '버스정류소', *BDTYP_CD],\n",
    "            data=np.stack([인구분포, 전철역_조건, 버스정류소_조건, *도로명주소_건물_데이터], axis=1),\n",
    "        ), ignore_index=True)\n",
    "    return 데이터\n",
    "\n",
    "학습데이터 = make_데이터(자전거스테이션['경도'], 자전거스테이션['위도'])\n",
    "학습데이터.index = 자전거스테이션['Station_ID']\n",
    "학습데이터"
   ]
  },
  {
   "cell_type": "code",
   "execution_count": 21,
   "metadata": {},
   "outputs": [],
   "source": [
    "인구분포도_경위도 = np.stack([인구분포도['geometry'].centroid.x, 인구분포도['geometry'].centroid.y], axis=1).reshape([1, -1, 2]) #(27350,2) --> (1, 27350, 2)"
   ]
  },
  {
   "cell_type": "code",
   "execution_count": 22,
   "metadata": {},
   "outputs": [
    {
     "data": {
      "text/plain": [
       "array([[[126.67040725,  37.68207278],\n",
       "        [126.67039721,  37.68297402],\n",
       "        [126.67038717,  37.68387527],\n",
       "        ...,\n",
       "        [126.99365281,  37.67759437],\n",
       "        [126.99364668,  37.67849568],\n",
       "        [126.9948418 ,  37.66948749]]])"
      ]
     },
     "execution_count": 22,
     "metadata": {},
     "output_type": "execute_result"
    }
   ],
   "source": [
    "인구분포도_경위도"
   ]
  },
  {
   "cell_type": "code",
   "execution_count": null,
   "metadata": {},
   "outputs": [],
   "source": []
  },
  {
   "cell_type": "code",
   "execution_count": 164,
   "metadata": {},
   "outputs": [
    {
     "data": {
      "text/plain": [
       "220"
      ]
     },
     "execution_count": 164,
     "metadata": {},
     "output_type": "execute_result"
    }
   ],
   "source": [
    "len(BDTYP_CD)"
   ]
  },
  {
   "cell_type": "code",
   "execution_count": 67,
   "metadata": {},
   "outputs": [
    {
     "data": {
      "text/plain": [
       "range(0, 6)"
      ]
     },
     "execution_count": 67,
     "metadata": {},
     "output_type": "execute_result"
    }
   ],
   "source": [
    "range(int(np.ceil(164 / 32)))"
   ]
  },
  {
   "cell_type": "code",
   "execution_count": 69,
   "metadata": {
    "scrolled": true
   },
   "outputs": [
    {
     "data": {
      "application/vnd.jupyter.widget-view+json": {
       "model_id": "7f5371d35843479e96fcf9b13993cce5",
       "version_major": 2,
       "version_minor": 0
      },
      "text/plain": [
       "HBox(children=(FloatProgress(value=0.0, max=6.0), HTML(value='')))"
      ]
     },
     "metadata": {},
     "output_type": "display_data"
    },
    {
     "name": "stdout",
     "output_type": "stream",
     "text": [
      "0\n",
      "1\n",
      "2\n",
      "3\n",
      "4\n",
      "5\n",
      "\n"
     ]
    }
   ],
   "source": [
    "for i in tqdm(range(int(np.ceil(164 / 32)))):\n",
    "    print(i)"
   ]
  },
  {
   "cell_type": "code",
   "execution_count": 105,
   "metadata": {},
   "outputs": [],
   "source": [
    "자전거스테이션_경위도 = np.stack([자전거스테이션['경도'][0:32], 자전거스테이션['위도'][0:32]], axis=1).reshape([-1, 1, 2])"
   ]
  },
  {
   "cell_type": "code",
   "execution_count": 117,
   "metadata": {},
   "outputs": [
    {
     "data": {
      "text/plain": [
       "(32, 1, 2)"
      ]
     },
     "execution_count": 117,
     "metadata": {},
     "output_type": "execute_result"
    }
   ],
   "source": [
    "자전거스테이션_경위도.shape"
   ]
  },
  {
   "cell_type": "code",
   "execution_count": 106,
   "metadata": {},
   "outputs": [],
   "source": [
    "인구분포_조건 = np.sum((자전거스테이션_경위도 - 인구분포도_경위도)**2, axis=2)**0.5 < 거리 * 축척"
   ]
  },
  {
   "cell_type": "code",
   "execution_count": 110,
   "metadata": {},
   "outputs": [
    {
     "data": {
      "text/plain": [
       "(32, 27350)"
      ]
     },
     "execution_count": 110,
     "metadata": {},
     "output_type": "execute_result"
    }
   ],
   "source": [
    "인구분포_조건.shape"
   ]
  },
  {
   "cell_type": "code",
   "execution_count": 157,
   "metadata": {},
   "outputs": [
    {
     "data": {
      "text/plain": [
       "(32,)"
      ]
     },
     "execution_count": 157,
     "metadata": {},
     "output_type": "execute_result"
    }
   ],
   "source": [
    "인구분포.shape"
   ]
  },
  {
   "cell_type": "code",
   "execution_count": 126,
   "metadata": {},
   "outputs": [],
   "source": [
    "전철역_경위도 = np.stack([전철역['X'], 전철역['Y']], axis=1)"
   ]
  },
  {
   "cell_type": "code",
   "execution_count": 114,
   "metadata": {
    "scrolled": true
   },
   "outputs": [
    {
     "data": {
      "text/plain": [
       "(21, 2)"
      ]
     },
     "execution_count": 114,
     "metadata": {},
     "output_type": "execute_result"
    }
   ],
   "source": [
    "전철역_경위도.shape"
   ]
  },
  {
   "cell_type": "code",
   "execution_count": 119,
   "metadata": {},
   "outputs": [],
   "source": [
    "전철역_조건 = np.any(np.sum((자전거스테이션_경위도 - 전철역_경위도)**2, axis=2)**0.5 < 거리 * 축척, axis=1)"
   ]
  },
  {
   "cell_type": "code",
   "execution_count": 122,
   "metadata": {
    "scrolled": true
   },
   "outputs": [
    {
     "data": {
      "text/plain": [
       "(32, 21, 2)"
      ]
     },
     "execution_count": 122,
     "metadata": {},
     "output_type": "execute_result"
    }
   ],
   "source": [
    "(자전거스테이션_경위도 - 전철역_경위도).shape"
   ]
  },
  {
   "cell_type": "code",
   "execution_count": 128,
   "metadata": {},
   "outputs": [],
   "source": [
    "버스정류소_경위도 = np.stack([버스정류소['X'], 버스정류소['Y']], axis=1)\n",
    "버스정류소_조건 = np.any(np.sum((자전거스테이션_경위도 - 버스정류소_경위도)**2, axis=2)**0.5 < 거리 * 축척, axis=1)"
   ]
  },
  {
   "cell_type": "code",
   "execution_count": 130,
   "metadata": {},
   "outputs": [
    {
     "data": {
      "text/plain": [
       "(32,)"
      ]
     },
     "execution_count": 130,
     "metadata": {},
     "output_type": "execute_result"
    }
   ],
   "source": [
    "버스정류소_조건.shape"
   ]
  },
  {
   "cell_type": "code",
   "execution_count": 131,
   "metadata": {},
   "outputs": [
    {
     "name": "stderr",
     "output_type": "stream",
     "text": [
      "<ipython-input-131-10d34db697cb>:1: UserWarning: Geometry is in a geographic CRS. Results from 'centroid' are likely incorrect. Use 'GeoSeries.to_crs()' to re-project geometries to a projected CRS before this operation.\n",
      "\n",
      "  도로명주소_건물_경위도 = np.stack([도로명주소_건물['geometry'].centroid.x, 도로명주소_건물['geometry'].centroid.y], axis=1).reshape([1, -1, 2])\n"
     ]
    }
   ],
   "source": [
    "도로명주소_건물_경위도 = np.stack([도로명주소_건물['geometry'].centroid.x, 도로명주소_건물['geometry'].centroid.y], axis=1).reshape([1, -1, 2])\n",
    "도로명주소_건물_조건 = np.sum((자전거스테이션_경위도 - 도로명주소_건물_경위도)**2, axis=2)**0.5 < 거리 * 축척"
   ]
  },
  {
   "cell_type": "code",
   "execution_count": 132,
   "metadata": {
    "scrolled": true
   },
   "outputs": [
    {
     "data": {
      "text/plain": [
       "(32, 80002)"
      ]
     },
     "execution_count": 132,
     "metadata": {},
     "output_type": "execute_result"
    }
   ],
   "source": [
    "도로명주소_건물_조건.shape"
   ]
  },
  {
   "cell_type": "code",
   "execution_count": 133,
   "metadata": {},
   "outputs": [
    {
     "data": {
      "text/plain": [
       "(80002, 8)"
      ]
     },
     "execution_count": 133,
     "metadata": {},
     "output_type": "execute_result"
    }
   ],
   "source": [
    "도로명주소_건물.shape"
   ]
  },
  {
   "cell_type": "code",
   "execution_count": 155,
   "metadata": {},
   "outputs": [
    {
     "data": {
      "text/plain": [
       "(220, 32)"
      ]
     },
     "execution_count": 155,
     "metadata": {},
     "output_type": "execute_result"
    }
   ],
   "source": [
    "도로명주소_건물_데이터 = np.zeros([len(BDTYP_CD), len(자전거스테이션_경위도)])\n",
    "도로명주소_건물_데이터.shape"
   ]
  },
  {
   "cell_type": "code",
   "execution_count": 136,
   "metadata": {},
   "outputs": [
    {
     "data": {
      "text/plain": [
       "220"
      ]
     },
     "execution_count": 136,
     "metadata": {},
     "output_type": "execute_result"
    }
   ],
   "source": [
    "len(BDTYP_CD)"
   ]
  },
  {
   "cell_type": "code",
   "execution_count": 139,
   "metadata": {},
   "outputs": [
    {
     "data": {
      "text/plain": [
       "(1, 80002)"
      ]
     },
     "execution_count": 139,
     "metadata": {},
     "output_type": "execute_result"
    }
   ],
   "source": [
    "도로명주소_건물_속성.shape"
   ]
  },
  {
   "cell_type": "code",
   "execution_count": 140,
   "metadata": {},
   "outputs": [
    {
     "data": {
      "text/plain": [
       "array([[ 2,  6,  6, ..., 11,  2,  0]], dtype=int64)"
      ]
     },
     "execution_count": 140,
     "metadata": {},
     "output_type": "execute_result"
    }
   ],
   "source": [
    "도로명주소_건물_속성"
   ]
  },
  {
   "cell_type": "code",
   "execution_count": 141,
   "metadata": {},
   "outputs": [
    {
     "data": {
      "text/plain": [
       "array([[False, False, False, ..., False, False, False],\n",
       "       [False, False, False, ..., False, False, False],\n",
       "       [False, False, False, ..., False, False, False],\n",
       "       ...,\n",
       "       [False, False, False, ..., False, False, False],\n",
       "       [False, False, False, ..., False, False, False],\n",
       "       [False, False, False, ..., False, False, False]])"
      ]
     },
     "execution_count": 141,
     "metadata": {},
     "output_type": "execute_result"
    }
   ],
   "source": [
    "도로명주소_건물_조건"
   ]
  },
  {
   "cell_type": "code",
   "execution_count": 142,
   "metadata": {},
   "outputs": [
    {
     "data": {
      "text/plain": [
       "(32, 80002)"
      ]
     },
     "execution_count": 142,
     "metadata": {},
     "output_type": "execute_result"
    }
   ],
   "source": [
    "도로명주소_건물_조건.shape"
   ]
  },
  {
   "cell_type": "code",
   "execution_count": 148,
   "metadata": {
    "scrolled": true
   },
   "outputs": [
    {
     "name": "stdout",
     "output_type": "stream",
     "text": [
      "0 [0 0 0 ... 0 0 0]\n",
      "1 [0 0 0 ... 0 0 0]\n",
      "2 [0 0 0 ... 0 0 0]\n",
      "3 [0 0 0 ... 0 0 0]\n",
      "4 [0 0 0 ... 0 0 0]\n",
      "5 [0 0 0 ... 0 0 0]\n",
      "6 [0 0 0 ... 0 0 0]\n",
      "7 [0 0 0 ... 0 0 0]\n",
      "8 [0 0 0 ... 0 0 0]\n",
      "9 [0 0 0 ... 0 0 0]\n",
      "10 [0 0 0 ... 0 0 0]\n",
      "11 [0 0 0 ... 0 0 0]\n",
      "12 [0 0 0 ... 0 0 0]\n",
      "13 [0 0 0 ... 0 0 0]\n",
      "14 [0 0 0 ... 0 0 0]\n",
      "15 [0 0 0 ... 0 0 0]\n",
      "16 [0 0 0 ... 0 0 0]\n",
      "17 [0 0 0 ... 0 0 0]\n",
      "18 [0 0 0 ... 0 0 0]\n",
      "19 [0 0 0 ... 0 0 0]\n",
      "20 [0 0 0 ... 0 0 0]\n",
      "21 [0 0 0 ... 0 0 0]\n",
      "22 [0 0 0 ... 0 0 0]\n",
      "23 [0 0 0 ... 0 0 0]\n",
      "24 [0 0 0 ... 0 0 0]\n",
      "25 [0 0 0 ... 0 0 0]\n",
      "26 [0 0 0 ... 0 0 0]\n",
      "27 [0 0 0 ... 0 0 0]\n",
      "28 [0 0 0 ... 0 0 0]\n",
      "29 [0 0 0 ... 0 0 0]\n",
      "30 [0 0 0 ... 0 0 0]\n",
      "31 [0 0 0 ... 0 0 0]\n"
     ]
    }
   ],
   "source": [
    "for i, x in enumerate(도로명주소_건물_속성 * 도로명주소_건물_조건):\n",
    "    print(i,x)"
   ]
  },
  {
   "cell_type": "code",
   "execution_count": 152,
   "metadata": {},
   "outputs": [],
   "source": [
    "aa = (도로명주소_건물_속성 * 도로명주소_건물_조건)[0]"
   ]
  },
  {
   "cell_type": "code",
   "execution_count": 150,
   "metadata": {
    "scrolled": true
   },
   "outputs": [
    {
     "data": {
      "text/plain": [
       "0        0\n",
       "1        1\n",
       "2        2\n",
       "3        3\n",
       "4        4\n",
       "      ... \n",
       "215    215\n",
       "216    216\n",
       "217    217\n",
       "218    218\n",
       "219    219\n",
       "Length: 220, dtype: int64"
      ]
     },
     "execution_count": 150,
     "metadata": {},
     "output_type": "execute_result"
    }
   ],
   "source": [
    "pd.Series(range(len(BDTYP_CD)))"
   ]
  },
  {
   "cell_type": "code",
   "execution_count": 154,
   "metadata": {
    "scrolled": true
   },
   "outputs": [
    {
     "data": {
      "text/plain": [
       "0       True\n",
       "1       True\n",
       "2       True\n",
       "3      False\n",
       "4       True\n",
       "       ...  \n",
       "215    False\n",
       "216    False\n",
       "217    False\n",
       "218    False\n",
       "219    False\n",
       "Length: 220, dtype: bool"
      ]
     },
     "execution_count": 154,
     "metadata": {},
     "output_type": "execute_result"
    }
   ],
   "source": [
    "pd.Series(range(len(BDTYP_CD))).apply(aa.__contains__)"
   ]
  },
  {
   "cell_type": "code",
   "execution_count": 160,
   "metadata": {
    "scrolled": true
   },
   "outputs": [
    {
     "name": "stderr",
     "output_type": "stream",
     "text": [
      "<ipython-input-160-9c5155b52c08>:1: UserWarning: Geometry is in a geographic CRS. Results from 'centroid' are likely incorrect. Use 'GeoSeries.to_crs()' to re-project geometries to a projected CRS before this operation.\n",
      "\n",
      "  (np.stack([인구분포도['geometry'].centroid.x, 인구분포도['geometry'].centroid.y], axis=1)).shape\n"
     ]
    },
    {
     "data": {
      "text/plain": [
       "(27350, 2)"
      ]
     },
     "execution_count": 160,
     "metadata": {},
     "output_type": "execute_result"
    }
   ],
   "source": [
    "(np.stack([인구분포도['geometry'].centroid.x, 인구분포도['geometry'].centroid.y], axis=1)).shape"
   ]
  },
  {
   "cell_type": "code",
   "execution_count": 161,
   "metadata": {
    "scrolled": true
   },
   "outputs": [
    {
     "name": "stderr",
     "output_type": "stream",
     "text": [
      "<ipython-input-161-efb14f3564d6>:1: UserWarning: Geometry is in a geographic CRS. Results from 'centroid' are likely incorrect. Use 'GeoSeries.to_crs()' to re-project geometries to a projected CRS before this operation.\n",
      "\n",
      "  인구분포도['geometry'].centroid.x\n"
     ]
    },
    {
     "data": {
      "text/plain": [
       "0        126.670407\n",
       "1        126.670397\n",
       "2        126.670387\n",
       "3        126.670377\n",
       "4        126.670367\n",
       "            ...    \n",
       "27345    126.993665\n",
       "27346    126.993659\n",
       "27347    126.993653\n",
       "27348    126.993647\n",
       "27349    126.994842\n",
       "Length: 27350, dtype: float64"
      ]
     },
     "execution_count": 161,
     "metadata": {},
     "output_type": "execute_result"
    }
   ],
   "source": [
    "인구분포도['geometry'].centroid.x"
   ]
  },
  {
   "cell_type": "code",
   "execution_count": 162,
   "metadata": {
    "scrolled": true
   },
   "outputs": [
    {
     "data": {
      "text/plain": [
       "0      101\n",
       "1      103\n",
       "2      104\n",
       "3      105\n",
       "4      106\n",
       "      ... \n",
       "159    350\n",
       "160    351\n",
       "161    352\n",
       "162    353\n",
       "163    992\n",
       "Name: Station_ID, Length: 164, dtype: object"
      ]
     },
     "execution_count": 162,
     "metadata": {},
     "output_type": "execute_result"
    }
   ],
   "source": [
    "자전거스테이션['Station_ID']"
   ]
  },
  {
   "cell_type": "code",
   "execution_count": 165,
   "metadata": {},
   "outputs": [
    {
     "data": {
      "text/plain": [
       "(164, 223)"
      ]
     },
     "execution_count": 165,
     "metadata": {},
     "output_type": "execute_result"
    }
   ],
   "source": [
    "학습데이터.shape"
   ]
  },
  {
   "cell_type": "code",
   "execution_count": 168,
   "metadata": {},
   "outputs": [
    {
     "data": {
      "text/plain": [
       "(164,)"
      ]
     },
     "execution_count": 168,
     "metadata": {},
     "output_type": "execute_result"
    }
   ],
   "source": [
    "자전거스테이션['경도'].shape"
   ]
  }
 ],
 "metadata": {
  "kernelspec": {
   "display_name": "Python 3",
   "language": "python",
   "name": "python3"
  },
  "language_info": {
   "codemirror_mode": {
    "name": "ipython",
    "version": 3
   },
   "file_extension": ".py",
   "mimetype": "text/x-python",
   "name": "python",
   "nbconvert_exporter": "python",
   "pygments_lexer": "ipython3",
   "version": "3.8.5"
  }
 },
 "nbformat": 4,
 "nbformat_minor": 4
}
